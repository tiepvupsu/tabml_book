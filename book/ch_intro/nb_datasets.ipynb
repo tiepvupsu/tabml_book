{
 "cells": [
  {
   "cell_type": "markdown",
   "id": "cutting-korea",
   "metadata": {},
   "source": [
    "# Các bộ dữ liệu sử dụng trong sách\n",
    "\n",
    "Các bộ dữ liệu dạng bảng trong cuốn sách này sẽ được chủ yếu lấy từ [các cuộc thi trên Kaggle](https://www.kaggle.com/competitions).\n",
    "\n",
    "![](imgs/kaggle_competitions.png)\n",
    "\n",
    "Đặc điểm nhận ra các bộ dữ liệu dạng bảng là các file csv ở phần \"Data Explorer\" trong tab \"Data\" như hình dưới đây với cuộc thi [Titanic](https://www.kaggle.com/c/titanic/overview).\n",
    "```{margin}\n",
    "Titanic được coi như \"Hello world\" với dữ liệu dạng bảng. Đây là bộ dữ liệu được dùng để minh họa các cách làm sạch dữ liệu và xây dựng đặc trưng điển hình.\n",
    "```\n",
    "\n",
    "![](imgs/titanic_data.png)\n",
    "\n",
    "Trước khi download các bộ dữ liệu này, bạn cần tạo tài khoản và chấp nhận điều lệ của từng cuộc thi.\n",
    "\n",
    "## Kaggle API\n",
    "\n",
    "Để có thể download và nộp kết quả thông qua cửa sổ dòng lệnh (_terminal_), bạn cần cài đặt [kaggle-api](https://github.com/Kaggle/kaggle-api).\n",
    "Chú ý đọc kỹ phần [API Credentials](https://github.com/Kaggle/kaggle-api#api-credentials) để cài đặt API Token cho tài khoản của bạn.\n",
    "\n",
    "Mỗi cuộc thi sẽ có mã riêng để giúp các bạn thao thác thông qua API này. Câu lệnh để download dữ liệu cho mỗi cuộc thi cũng được cho trong tab \"Data\" của cuộc thi đó.\n",
    "Ví dụ, để download dữ liệu Titanic, bạn có thể chạy lệnh sau đây:\n",
    "\n",
    "```\n",
    "kaggle competitions download -c titanic\n",
    "```\n",
    "\n",
    "Đoạn lệnh ví dụ dưới đây thực hiện thao tác download bộ dữ liệu Titanic về thư mục `data/tianic` và giải nén."
   ]
  },
  {
   "cell_type": "code",
   "execution_count": 1,
   "id": "activated-today",
   "metadata": {},
   "outputs": [],
   "source": [
    "!rm -rf ../data/titanic; mkdir -p ../data/titanic\n",
    "!kaggle competitions download -c titanic -p ../data/titanic;\n",
    "!cd ../data/titanic; unzip titanic.zip; rm titanic.zip;"
   ]
  },
  {
   "cell_type": "markdown",
   "id": "thousand-appeal",
   "metadata": {},
   "source": [
    "```{note}\n",
    "Site này được viết trong một jupyter notebook.\n",
    "Dòng `%%capture` giúp ẩn các thông tin dư thừa của đoạn này.\n",
    "Các dấu `!` để báo với chương trình rằng đây không phải là một đoạn code python mà là các câu lệnh nên được thực hiện ở cửa sổ dòng lệnh.\n",
    "```"
   ]
  },
  {
   "cell_type": "code",
   "execution_count": 2,
   "id": "dominant-prophet",
   "metadata": {},
   "outputs": [
    {
     "name": "stdout",
     "output_type": "stream",
     "text": [
      "gender_submission.csv test.csv              train.csv\n"
     ]
    }
   ],
   "source": [
    "!ls ../data/titanic"
   ]
  },
  {
   "cell_type": "markdown",
   "id": "civil-florist",
   "metadata": {},
   "source": [
    "Sau khi giải nén, thư mục `data/titanic` chưa ba file: file `train.csv` chứa thông tin về tập huấn luyện, file `test.csv` chứa thông tin về tập kiểm tra, và file `gender_submission.csv` chứa ví dụ mẫu về cấu trúc của file nộp bài để Kaggle tính điểm. \n",
    "\n",
    "## Cấu trúc của mỗi bộ dữ liệu\n",
    "\n",
    "Trong thực tế, các công ty hiếm khi lưu dữ liệu ở dạng csv vì tốc độ truy xuất và lưu trữ chậm.\n",
    "Chúng thường được lưu ở các định dạng phù hợp với dữ liệu lớn hơn như hdfs và được trích xuất ra các dạng phù hợp hơn khi làm việc với các bài toán ML.\n",
    "Trong phạm vi cuốn sách, việc lưu trữ và trích xuất dữ liệu như thế nào sẽ không được đề cập.\n",
    "Dữ liệu được giả sử là đã ở dạng csv và chúng ta sẽ làm việc trực tiếp trên các file csv này.\n",
    "\n",
    "Dữ liệu cho một bài toán có thể được cho trong một bảng lưu trong một file csv như file `train.csv` trong bộ dữ liệu Titanic.\n",
    "Mỗi hàng trong file csv thường ứng với một mẫu dữ liệu với các trường thông tin được phân tách bởi dấu phẩy (`,`).\n",
    "Dưới đây là 55 dòng đầu tiên của file `train.csv` khi nó được mở trong hầu hết các text editor."
   ]
  },
  {
   "cell_type": "code",
   "execution_count": 3,
   "id": "floating-roulette",
   "metadata": {},
   "outputs": [
    {
     "name": "stdout",
     "output_type": "stream",
     "text": [
      "PassengerId,Survived,Pclass,Name,Sex,Age,SibSp,Parch,Ticket,Fare,Cabin,Embarked\n",
      "1,0,3,\"Braund, Mr. Owen Harris\",male,22,1,0,A/5 21171,7.25,,S\n",
      "2,1,1,\"Cumings, Mrs. John Bradley (Florence Briggs Thayer)\",female,38,1,0,PC 17599,71.2833,C85,C\n",
      "3,1,3,\"Heikkinen, Miss. Laina\",female,26,0,0,STON/O2. 3101282,7.925,,S\n",
      "4,1,1,\"Futrelle, Mrs. Jacques Heath (Lily May Peel)\",female,35,1,0,113803,53.1,C123,S\n"
     ]
    }
   ],
   "source": [
    "!cat ../data/titanic/train.csv | head -5"
   ]
  },
  {
   "cell_type": "markdown",
   "id": "valuable-subsection",
   "metadata": {},
   "source": [
    "Để cho dễ nhìn, bạn có thể sử dụng [`csvlook`](https://csvkit.readthedocs.io/en/1.0.2/scripts/csvlook.html) để quan sát dữ liệu dưới dạng bảng:"
   ]
  },
  {
   "cell_type": "code",
   "execution_count": 4,
   "id": "violent-burton",
   "metadata": {},
   "outputs": [
    {
     "name": "stdout",
     "output_type": "stream",
     "text": [
      "| PassengerId | Survived | Pclass | Name                                                                               | Sex    |   Age | SibSp | Parch | Ticket             |     Fare | Cabin           | Embarked |\n",
      "| ----------- | -------- | ------ | ---------------------------------------------------------------------------------- | ------ | ----- | ----- | ----- | ------------------ | -------- | --------------- | -------- |\n",
      "|           1 |    False |      3 | Braund, Mr. Owen Harris                                                            | male   | 22.00 |     1 |     0 | A/5 21171          |   7.250… |                 | S        |\n",
      "|           2 |     True |      1 | Cumings, Mrs. John Bradley (Florence Briggs Thayer)                                | female | 38.00 |     1 |     0 | PC 17599           |  71.283… | C85             | C        |\n",
      "|           3 |     True |      3 | Heikkinen, Miss. Laina                                                             | female | 26.00 |     0 |     0 | STON/O2. 3101282   |   7.925… |                 | S        |\n",
      "|           4 |     True |      1 | Futrelle, Mrs. Jacques Heath (Lily May Peel)                                       | female | 35.00 |     1 |     0 | 113803             |  53.100… | C123            | S        |\n"
     ]
    }
   ],
   "source": [
    "!csvlook ../data/titanic/train.csv | head -6 # one additional line as header/content spliter"
   ]
  },
  {
   "cell_type": "markdown",
   "id": "remarkable-ceiling",
   "metadata": {},
   "source": [
    "Thông thường, các mô hình ML được yêu cầu dự đoán một cột sử dụng thông tin trong các cột còn lại.\n",
    "Trong bài toán Titanic, cột dữ liệu đó là `\"Survived\"` thể hiện một hành khách có sống sót sau thảm họa Titanic hay không.\n",
    "File `test.csv` có cấu trúc tương tự ngoại trừ việc nó không có cột `\"Survived\"`, cột này các đội tham gia cần dự đoán.\n",
    "\n",
    "Đôi khi, cột cần dự đoán không có sẵn trong bảng dữ liệu mà được tính dựa trên các cột khác.\n",
    "Chẳng hạn, với bảng dữ liệu trên, ta cũng có thể xây dựng bài toán \"Dự đoán một hành khách có trên 30 tuổi hay không\" dựa trên các cột còn lại.\n",
    "Tất nhiên, khi đó cột `\"Age\"` chỉ có trong tập huấn luyện mà không có trong tập kiểm tra.\n",
    "Khi xử lý dữ liệu, người kỹ sư ML cần xây dựng thêm một trường dữ liệu nữa có tên, chẳng hạn, `\"Age_greater_30\"` dựa vào cột `\"Age\"`"
   ]
  },
  {
   "cell_type": "markdown",
   "id": "sufficient-immune",
   "metadata": {},
   "source": [
    "Trong hầu hết các trường hợp khác, dữ liệu thường được lưu ở nhiều bảng khác nhau.\n",
    "Ví dụ với cuộc thi [Predict Future Sales](https://www.kaggle.com/c/competitive-data-science-predict-future-sales/data), dữ liệu được lưu ở nhiều bảng khác nhau:\n",
    "\n",
    "![](imgs/sales_data.png)"
   ]
  },
  {
   "cell_type": "markdown",
   "id": "attended-tamil",
   "metadata": {},
   "source": [
    "Dữ liệu chính được lưu trong file `sales_train.csv`, các thông tin liên quan về cửa hàng và sản phẩm lần lượt được lưu ở `shops.csv` và `items.csv`. Ngoài ra, thông tin về mỗi hạng mục của sản phẩm được lưu ở `item_categories.csv`. Các file `test.csv` và `sample_submision.csv` có mục đích chỉ ra những thông tin mà các kỹ sư ML cần dự đoán.\n",
    "\n",
    "Nhìn chung, _mỗi bài toán ML với dự liệu dạng bảng có một cấu trúc dữ liệu khác nhau_. Trong mỗi bài toán có thể có nhiều bảng dữ liệu khác nhau.\n",
    "Trong ML với dữ liệu dạng bảng, phần lớn thời gian của các kỹ sư được dành cho việc xử lý các bảng dữ liệu này để tạo ra các đặc trưng dưới dạng số trước khi đưa chúng vào các mô hình ML."
   ]
  }
 ],
 "metadata": {
  "kernelspec": {
   "display_name": "Python 3",
   "language": "python",
   "name": "python3"
  },
  "language_info": {
   "codemirror_mode": {
    "name": "ipython",
    "version": 3
   },
   "file_extension": ".py",
   "mimetype": "text/x-python",
   "name": "python",
   "nbconvert_exporter": "python",
   "pygments_lexer": "ipython3",
   "version": "3.8.7"
  }
 },
 "nbformat": 4,
 "nbformat_minor": 5
}
