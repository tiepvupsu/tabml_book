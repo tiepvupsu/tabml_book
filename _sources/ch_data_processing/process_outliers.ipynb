{
 "cells": [
  {
   "cell_type": "markdown",
   "id": "e7357bda",
   "metadata": {},
   "source": [
    "(sec_outlier_processing)=\n",
    "# Xử lý các giá trị ngoại lệ\n",
    "\n",
    "Giá trị ngoại lệ [^1] (_outliers_) trong dữ liệu là gì?\n",
    "\n",
    "Với dạng số, dữ liệu ngoại lệ có thể là một giá trị phi thực tế như số tuổi âm, hoặc một giá trị khác xa với phần còn lại của các giá trị trong trường đó.\n",
    "Với dạng hạng mục, dữ liệu ngoại lệ có thể là một giá trị phi thực tế như một hạng mục nằm ngoài những khả năng có thể xảy ra như một địa danh không có trên bản đồ.\n",
    "Các giá trị có tần xuất xảy ra vô cùng thấp trong một cột dữ liệu cũng có _khả năng_ [^2] là một giá trị ngoại lệ.\n",
    "\n",
    "(sec_numeric_outliers)=\n",
    "## Dữ liệu số\n",
    "\n",
    "Các phép biến đổi số học tương đối nhạy cảm với các giá trị ngoại lệ (quá lớn hoặc quá nhỏ). Đặc biệt, nếu ta muốn xây dựng đặc trưng dựa trên trung bình của một cột, các giá trị ngoại lệ có thể làm thay đổi trung bình đáng kể. Ví dụ, ngôi làng A có 100 ngôi nhà, trong đó 99 ngôi nhà có thu nhập 1 triệu/tháng. Ngôi nhà còn lại của một anh đại gia có thu nhập 3 tỉ/tháng. Như vậy \"thu nhập bình quân\" của ngôi làng là gần 33 triệu/tháng. Một ngôi làng B khác có mọi nhà đều thu nhập vào khoảng 5-10 triệu/tháng. Nếu một công ty muốn mở cửa hàng tạp hóa dựa trên thu nhập bình quân đầu người của mỗi làng thì rõ ràng ngôi làng A được đánh giá cao hơn mặc dù trên thực tế, ngôi làng B có mức sống cao hơn.\n",
    "\n",
    "Các giá trị ngoại lệ cũng ảnh hưởng lớn đến chất lượng mô hình machine learning. Xét ví dụ đơn giản dưới đây.\n",
    "\n",
    "Có một bảng dữ liệu với chiều cao được lưu trong cột `height` và cân nặng được lưu trong `weight`. Giả sử cột `height_2` là một phiên bản của `height` với chỉ một sự khác biệt ở chiều cao của người đầu tiên là 110cm thay vì 147cm. Cột `weight_2` chỉ khác cột `weight` ở dòng thứ hai với cân nặng 90kg thay vì 50 kg. Dòng đầu tiên trong `height_2` và dòng thứ hai trong `weight_2` có thể coi là các giá trị ngoại lệ. Các giá trị này có thể do sai số ghi chép hoặc thực sự đó là dữ liệu thật."
   ]
  },
  {
   "cell_type": "code",
   "execution_count": 1,
   "id": "b666133c",
   "metadata": {
    "tags": [
     "hide-input"
    ]
   },
   "outputs": [
    {
     "data": {
      "text/html": [
       "<div>\n",
       "<style scoped>\n",
       "    .dataframe tbody tr th:only-of-type {\n",
       "        vertical-align: middle;\n",
       "    }\n",
       "\n",
       "    .dataframe tbody tr th {\n",
       "        vertical-align: top;\n",
       "    }\n",
       "\n",
       "    .dataframe thead th {\n",
       "        text-align: right;\n",
       "    }\n",
       "</style>\n",
       "<table border=\"1\" class=\"dataframe\">\n",
       "  <thead>\n",
       "    <tr style=\"text-align: right;\">\n",
       "      <th></th>\n",
       "      <th>height</th>\n",
       "      <th>weight</th>\n",
       "      <th>height_2</th>\n",
       "      <th>weight_2</th>\n",
       "    </tr>\n",
       "  </thead>\n",
       "  <tbody>\n",
       "    <tr>\n",
       "      <th>0</th>\n",
       "      <td>147</td>\n",
       "      <td>49</td>\n",
       "      <td>110</td>\n",
       "      <td>49</td>\n",
       "    </tr>\n",
       "    <tr>\n",
       "      <th>1</th>\n",
       "      <td>150</td>\n",
       "      <td>50</td>\n",
       "      <td>150</td>\n",
       "      <td>90</td>\n",
       "    </tr>\n",
       "    <tr>\n",
       "      <th>2</th>\n",
       "      <td>153</td>\n",
       "      <td>51</td>\n",
       "      <td>153</td>\n",
       "      <td>51</td>\n",
       "    </tr>\n",
       "    <tr>\n",
       "      <th>3</th>\n",
       "      <td>158</td>\n",
       "      <td>54</td>\n",
       "      <td>158</td>\n",
       "      <td>54</td>\n",
       "    </tr>\n",
       "    <tr>\n",
       "      <th>4</th>\n",
       "      <td>163</td>\n",
       "      <td>58</td>\n",
       "      <td>163</td>\n",
       "      <td>58</td>\n",
       "    </tr>\n",
       "    <tr>\n",
       "      <th>5</th>\n",
       "      <td>165</td>\n",
       "      <td>59</td>\n",
       "      <td>165</td>\n",
       "      <td>59</td>\n",
       "    </tr>\n",
       "    <tr>\n",
       "      <th>6</th>\n",
       "      <td>168</td>\n",
       "      <td>60</td>\n",
       "      <td>168</td>\n",
       "      <td>60</td>\n",
       "    </tr>\n",
       "    <tr>\n",
       "      <th>7</th>\n",
       "      <td>170</td>\n",
       "      <td>62</td>\n",
       "      <td>170</td>\n",
       "      <td>62</td>\n",
       "    </tr>\n",
       "    <tr>\n",
       "      <th>8</th>\n",
       "      <td>173</td>\n",
       "      <td>63</td>\n",
       "      <td>173</td>\n",
       "      <td>63</td>\n",
       "    </tr>\n",
       "    <tr>\n",
       "      <th>9</th>\n",
       "      <td>175</td>\n",
       "      <td>64</td>\n",
       "      <td>175</td>\n",
       "      <td>64</td>\n",
       "    </tr>\n",
       "    <tr>\n",
       "      <th>10</th>\n",
       "      <td>178</td>\n",
       "      <td>66</td>\n",
       "      <td>178</td>\n",
       "      <td>66</td>\n",
       "    </tr>\n",
       "    <tr>\n",
       "      <th>11</th>\n",
       "      <td>180</td>\n",
       "      <td>67</td>\n",
       "      <td>180</td>\n",
       "      <td>67</td>\n",
       "    </tr>\n",
       "    <tr>\n",
       "      <th>12</th>\n",
       "      <td>183</td>\n",
       "      <td>68</td>\n",
       "      <td>183</td>\n",
       "      <td>68</td>\n",
       "    </tr>\n",
       "  </tbody>\n",
       "</table>\n",
       "</div>"
      ],
      "text/plain": [
       "    height  weight  height_2  weight_2\n",
       "0      147      49       110        49\n",
       "1      150      50       150        90\n",
       "2      153      51       153        51\n",
       "3      158      54       158        54\n",
       "4      163      58       163        58\n",
       "5      165      59       165        59\n",
       "6      168      60       168        60\n",
       "7      170      62       170        62\n",
       "8      173      63       173        63\n",
       "9      175      64       175        64\n",
       "10     178      66       178        66\n",
       "11     180      67       180        67\n",
       "12     183      68       183        68"
      ]
     },
     "execution_count": 1,
     "metadata": {},
     "output_type": "execute_result"
    }
   ],
   "source": [
    "import pandas as pd\n",
    "df_example = pd.DataFrame(\n",
    "    data={\n",
    "        \"height\": [147, 150, 153, 158, 163, 165, 168, 170, 173, 175, 178, 180, 183],\n",
    "        \"weight\": [49, 50, 51, 54, 58, 59, 60, 62, 63, 64, 66, 67, 68],\n",
    "        \"height_2\": [110, 150, 153, 158, 163, 165, 168, 170, 173, 175, 178, 180, 183],\n",
    "        \"weight_2\": [49, 90, 51, 54, 58, 59, 60, 62, 63, 64, 66, 67, 68],\n",
    "    }\n",
    ")\n",
    "df_example"
   ]
  },
  {
   "cell_type": "markdown",
   "id": "b6ab782c",
   "metadata": {},
   "source": [
    "Giả sử ta cần dùng bộ dữ liệu này để xây dựng một mô hình dự đoán cân nặng theo chiều cao. Ta có thể thấy rằng cân nặng _thường_ tỉ lệ thuận với chiều cao nên mô hình hồi quy tuyến tính sẽ phù hợp cho công việc này. Hình vẽ dưới đây thể hiện kết quả mà mô hình hồi quy tuyến tính học được trong ba trường hợp:\n",
    "\n",
    "* TH1 (trái): dùng dữ liệu trong cột `height` làm đầu vào, trong cột `weight` làm nhãn.\n",
    "* TH2 (giữa): dùng dữ liệu trong cột `height_2` làm đầu vào, trong cột `weight` làm nhãn.\n",
    "* TH3 (phải): dùng dữ liệu trong cột `height` làm đầu vào, trong cột `weight_2` làm nhãn."
   ]
  },
  {
   "cell_type": "code",
   "execution_count": 2,
   "id": "f4c0ef56",
   "metadata": {
    "tags": [
     "hide-input"
    ]
   },
   "outputs": [
    {
     "data": {
      "image/png": "[encoded data removed]",
      "text/plain": [
       "<Figure size 1224x432 with 3 Axes>"
      ]
     },
     "metadata": {
      "filenames": {
       "image/png": "/home/tiepvu/w/tabml_book/book/_build/jupyter_execute/ch_data_processing/process_outliers_3_0.png"
      },
      "needs_background": "light"
     },
     "output_type": "display_data"
    }
   ],
   "source": [
    "from matplotlib import pyplot as plt\n",
    "\n",
    "from sklearn.linear_model import LinearRegression\n",
    "\n",
    "\n",
    "def fit_linear_regression_and_visualize(\n",
    "    df: pd.DataFrame, input_col: str, label_col: str\n",
    "):\n",
    "    # fit the model by Linear Regression\n",
    "    lin_reg = LinearRegression(fit_intercept=True)\n",
    "    lin_reg.fit(df[[input_col]], df[label_col])\n",
    "    w1 = lin_reg.coef_\n",
    "    w0 = lin_reg.intercept_\n",
    "\n",
    "    # visualize\n",
    "    plt.plot(df[input_col], df[label_col], \"ro\", label=\"data\")\n",
    "    plt.axis([105, 190, 45, 75])\n",
    "    plt.xlabel(\"Height (cm)\")\n",
    "    plt.ylabel(\"Weight (kg)\")\n",
    "    plt.ylim(45, 95)\n",
    "    plt.plot([105, 190], [w1 * 105 + w0, w1 * 190 + w0], label=\"fitted line\")\n",
    "    plt.legend()\n",
    "\n",
    "\n",
    "plt.figure(figsize=(17, 6))\n",
    "plt.subplot(1, 3, 1)\n",
    "fit_linear_regression_and_visualize(df_example, input_col=\"height\", label_col=\"weight\")\n",
    "\n",
    "plt.subplot(1, 3, 2)\n",
    "fit_linear_regression_and_visualize(df_example, input_col=\"height_2\", label_col=\"weight\")\n",
    "\n",
    "plt.subplot(1, 3, 3)\n",
    "fit_linear_regression_and_visualize(df_example, input_col=\"height\", label_col=\"weight_2\")"
   ]
  },
  {
   "cell_type": "markdown",
   "id": "8b6d2e28",
   "metadata": {},
   "source": [
    "Các điểm màu đỏ thể hiện các điểm dữ liệu với trục hoành là cân nặng và trục tung là chiều cao. Đường thẳng màu xanh là đường thằng mà mô hình hồi quy tuyến tính học được. Ta có thể thấy rằng đường màu xanh trong hình bên trái khá khớp dữ liệu, trong khi hai đường thẳng ở hai trường hợp còn lại bị lệch đi khá nhiều dù chỉ có một điểm dữ liệu ngoại lệ trong mỗi trường hợp.\n",
    "\n",
    "Như vậy, với dữ liệu rất đơn giản này, dữ liệu ngoại lệ dù ở đầu vào mô hình hay nhãn đều mang lại kết quả không tốt.\n",
    "\n",
    "## Xác định và xử lý các điểm ngoại lệ\n",
    "\n",
    "Có hai nhóm các giá trị ngoại lệ:\n",
    "\n",
    "* Các giá trị không nằm trong miền xác định của dữ liệu. Ví dụ, tuổi, thu nhập hay khoảng cách không thể là số âm.\n",
    "\n",
    "* Các giá trị có khả năng xảy ra nhưng xác suất rất thấp. Ví dụ, 120 tuổi, thu nhập 1 triệu đô la/tháng. Những giá trị này có khả năng xảy ra nhưng thực sự hiếm có.\n",
    "\n",
    "Nhìn chung, chúng ta luôn có thể xóa bỏ cột hoặc hàng có dữ liệu ngoại lệ. Nếu xóa bỏ cột, ta có thể lãng phí rất nhiều các giá trị không phải ngoại lệ ở các hàng khác. Nếu xóa bỏ hàng, chúng ta cần lưu ý tới cách xử lý với dữ liệu mới. Tức là nếu một điểm dữ liệu mới cũng có giá trị ngoại lệ thì sao? Ta không thể bỏ không dự đoán điểm đó mà phải có cách biến đổi dữ liệu ngoại lệ này về những giá trị hợp lý hơn.\n",
    "\n",
    "Với dữ liệu thuộc nhóm thứ nhất, ta có thể thay nó bằng `nan` và coi như một giá trị bị khuyết. Đôi khi những giá trị bị khuyết được mã hóa bằng một giá trị đặc biệt không nằm trong miền giá trị khả dĩ của dữ liệu. Khi coi chúng là giá trị bị khuyết, ta có thể xử lý tiếp như trong `ref{sec_missing_data}`.\n",
    "\n",
    "Với dữ liệu thuộc nhóm thứ hai, người ta thường dùng phương pháp chặn trên hoặc chặn dưới (_clipping_ hay _capping_). Tức là khi một giá trị quá lớn hoặc quá nhỏ, ta đưa nó về giá trị lớn nhất/nhỏ nhất được coi là những điểm bình thường. Ví dụ với một giá trị của tuổi là 120, ta có thể đưa nó về 70 và giả sử như điểm dữ liệu này có những đặc tính chung của \"người cao tuổi\". Một điểm đáng lưu ý là việc chọn giá trị lớn nhất/nhỏ nhất cũng tùy thuộc vào dữ liệu. Nếu dữ liệu chỉ toàn bao gồm người cao tuổi tử 65 trở lên thì rõ ràng chặn trên bởi 70 là không hợp lý vì 70 vẫn là quá trẻ trong bộ dữ liệu này.\n",
    "\n",
    "Vậy làm thế nào để chọn những giá trị lớn nhất, nhỏ nhất đó?\n",
    "\n",
    "Cách phổ biến nhất là sử dụng {ref}`sec_boxplot`. Box plot vừa giúp xác định xem dữ liệu có điểm ngoại lệ không, vừa giúp tìm ra ngưỡng lớn nhất và nhỏ nhất để làm điểm cắt.\n",
    "\n",
    "### Box plot\n",
    "\n",
    "Để minh họa cho cách sử dụng box plot, ta sẽ sử dụng bộ dữ liệu California Housing"
   ]
  },
  {
   "cell_type": "code",
   "execution_count": 3,
   "id": "ceac04ee",
   "metadata": {},
   "outputs": [
    {
     "data": {
      "text/html": [
       "<div>\n",
       "<style scoped>\n",
       "    .dataframe tbody tr th:only-of-type {\n",
       "        vertical-align: middle;\n",
       "    }\n",
       "\n",
       "    .dataframe tbody tr th {\n",
       "        vertical-align: top;\n",
       "    }\n",
       "\n",
       "    .dataframe thead th {\n",
       "        text-align: right;\n",
       "    }\n",
       "</style>\n",
       "<table border=\"1\" class=\"dataframe\">\n",
       "  <thead>\n",
       "    <tr style=\"text-align: right;\">\n",
       "      <th></th>\n",
       "      <th>longitude</th>\n",
       "      <th>latitude</th>\n",
       "      <th>housing_median_age</th>\n",
       "      <th>total_rooms</th>\n",
       "      <th>total_bedrooms</th>\n",
       "      <th>population</th>\n",
       "      <th>households</th>\n",
       "      <th>median_income</th>\n",
       "      <th>median_house_value</th>\n",
       "      <th>ocean_proximity</th>\n",
       "    </tr>\n",
       "  </thead>\n",
       "  <tbody>\n",
       "    <tr>\n",
       "      <th>0</th>\n",
       "      <td>-122.23</td>\n",
       "      <td>37.88</td>\n",
       "      <td>41.0</td>\n",
       "      <td>880.0</td>\n",
       "      <td>129.0</td>\n",
       "      <td>322.0</td>\n",
       "      <td>126.0</td>\n",
       "      <td>8.3252</td>\n",
       "      <td>452600.0</td>\n",
       "      <td>NEAR BAY</td>\n",
       "    </tr>\n",
       "    <tr>\n",
       "      <th>1</th>\n",
       "      <td>-122.22</td>\n",
       "      <td>37.86</td>\n",
       "      <td>21.0</td>\n",
       "      <td>7099.0</td>\n",
       "      <td>1106.0</td>\n",
       "      <td>2401.0</td>\n",
       "      <td>1138.0</td>\n",
       "      <td>8.3014</td>\n",
       "      <td>358500.0</td>\n",
       "      <td>NEAR BAY</td>\n",
       "    </tr>\n",
       "    <tr>\n",
       "      <th>2</th>\n",
       "      <td>-122.24</td>\n",
       "      <td>37.85</td>\n",
       "      <td>52.0</td>\n",
       "      <td>1467.0</td>\n",
       "      <td>190.0</td>\n",
       "      <td>496.0</td>\n",
       "      <td>177.0</td>\n",
       "      <td>7.2574</td>\n",
       "      <td>352100.0</td>\n",
       "      <td>NEAR BAY</td>\n",
       "    </tr>\n",
       "    <tr>\n",
       "      <th>3</th>\n",
       "      <td>-122.25</td>\n",
       "      <td>37.85</td>\n",
       "      <td>52.0</td>\n",
       "      <td>1274.0</td>\n",
       "      <td>235.0</td>\n",
       "      <td>558.0</td>\n",
       "      <td>219.0</td>\n",
       "      <td>5.6431</td>\n",
       "      <td>341300.0</td>\n",
       "      <td>NEAR BAY</td>\n",
       "    </tr>\n",
       "    <tr>\n",
       "      <th>4</th>\n",
       "      <td>-122.25</td>\n",
       "      <td>37.85</td>\n",
       "      <td>52.0</td>\n",
       "      <td>1627.0</td>\n",
       "      <td>280.0</td>\n",
       "      <td>565.0</td>\n",
       "      <td>259.0</td>\n",
       "      <td>3.8462</td>\n",
       "      <td>342200.0</td>\n",
       "      <td>NEAR BAY</td>\n",
       "    </tr>\n",
       "  </tbody>\n",
       "</table>\n",
       "</div>"
      ],
      "text/plain": [
       "   longitude  latitude  housing_median_age  total_rooms  total_bedrooms  \\\n",
       "0    -122.23     37.88                41.0        880.0           129.0   \n",
       "1    -122.22     37.86                21.0       7099.0          1106.0   \n",
       "2    -122.24     37.85                52.0       1467.0           190.0   \n",
       "3    -122.25     37.85                52.0       1274.0           235.0   \n",
       "4    -122.25     37.85                52.0       1627.0           280.0   \n",
       "\n",
       "   population  households  median_income  median_house_value ocean_proximity  \n",
       "0       322.0       126.0         8.3252            452600.0        NEAR BAY  \n",
       "1      2401.0      1138.0         8.3014            358500.0        NEAR BAY  \n",
       "2       496.0       177.0         7.2574            352100.0        NEAR BAY  \n",
       "3       558.0       219.0         5.6431            341300.0        NEAR BAY  \n",
       "4       565.0       259.0         3.8462            342200.0        NEAR BAY  "
      ]
     },
     "execution_count": 3,
     "metadata": {},
     "output_type": "execute_result"
    }
   ],
   "source": [
    "import pandas as pd\n",
    "\n",
    "housing_path = \"https://media.githubusercontent.com/media/tiepvupsu/tabml_data/master/california_housing/\"\n",
    "df_housing = pd.read_csv(housing_path + \"housing.csv\")\n",
    "df_housing.head()"
   ]
  },
  {
   "cell_type": "markdown",
   "id": "2d6e9ff8",
   "metadata": {},
   "source": [
    "Dưới đây là histogram và box plot của cột `total_rooms`. Ở đâ, box plot được vẽ ở dạng nằm ngang để so sánh với histogram."
   ]
  },
  {
   "cell_type": "code",
   "execution_count": 4,
   "id": "aad0b904",
   "metadata": {
    "tags": [
     "hide-input"
    ]
   },
   "outputs": [
    {
     "data": {
      "image/png": "[encoded data removed]",
      "text/plain": [
       "<Figure size 1080x360 with 2 Axes>"
      ]
     },
     "metadata": {
      "filenames": {
       "image/png": "/home/tiepvu/w/tabml_book/book/_build/jupyter_execute/ch_data_processing/process_outliers_7_0.png"
      },
      "needs_background": "light"
     },
     "output_type": "display_data"
    }
   ],
   "source": [
    "import matplotlib.pyplot as plt\n",
    "\n",
    "fig, axes = plt.subplots(nrows=1, ncols=2, figsize=(15, 5))\n",
    "df_housing[[\"total_rooms\"]].hist(bins=50, ax=axes[0]);\n",
    "df_housing[[\"total_rooms\"]].boxplot(ax=axes[1], vert=False);"
   ]
  },
  {
   "cell_type": "markdown",
   "id": "d3caf5fe",
   "metadata": {},
   "source": [
    "Từ histogram ta thấy dữ liệu bị lệch phải (có điểm ngoại lệ lệch nhiều về bên phải, hoặc \"đuôi\" của histogram nằm ở bên phải). Từ boxplot ta thấy có khá nhiều điểm được coi là ngoại lệ.\n",
    "Các điểm ngoại lệ có thể được xử lý bằng cách _clip_ về giá trị cực tiểu và cực đại của Box plot. Bộ xử lý này có thể được triển khai dưới dạng sklearn API như sau:"
   ]
  },
  {
   "cell_type": "code",
   "execution_count": 5,
   "id": "4cb95345",
   "metadata": {},
   "outputs": [],
   "source": [
    "from typing import Tuple\n",
    "from sklearn.base import BaseEstimator, TransformerMixin\n",
    "\n",
    "\n",
    "def find_boxplot_boundaries(\n",
    "    col: pd.Series, whisker_coeff: float = 1.5\n",
    ") -> Tuple[float, float]:\n",
    "    \"\"\"Findx minimum and maximum in boxplot.\n",
    "\n",
    "    Args:\n",
    "        col: a pandas serires of input.\n",
    "        whisker_coeff: whisker coefficient in box plot\n",
    "    \"\"\"\n",
    "    Q1 = col.quantile(0.25)\n",
    "    Q3 = col.quantile(0.75)\n",
    "    IQR = Q3 - Q1\n",
    "    lower = Q1 - whisker_coeff * IQR\n",
    "    upper = Q3 + whisker_coeff * IQR\n",
    "    return lower, upper\n",
    "\n",
    "\n",
    "class BoxplotOutlierClipper(BaseEstimator, TransformerMixin):\n",
    "    def __init__(self, whisker_coeff: float = 1.5):\n",
    "        self.whisker = whisker_coeff\n",
    "        self.lower = None\n",
    "        self.upper = None\n",
    "\n",
    "    def fit(self, X: pd.Series):\n",
    "        self.lower, self.upper = find_boxplot_boundaries(X, self.whisker)\n",
    "        return self\n",
    "\n",
    "    def transform(self, X):\n",
    "        return X.clip(self.lower, self.upper)"
   ]
  },
  {
   "cell_type": "markdown",
   "id": "186deb82",
   "metadata": {},
   "source": [
    "Áp dụng lại vào dữ liệu của cột `total_rooms` ta có histogram và boxplot mới như sau:"
   ]
  },
  {
   "cell_type": "code",
   "execution_count": 6,
   "id": "946c6187",
   "metadata": {},
   "outputs": [
    {
     "data": {
      "image/png": "[encoded data removed]",
      "text/plain": [
       "<Figure size 1080x360 with 2 Axes>"
      ]
     },
     "metadata": {
      "filenames": {
       "image/png": "/home/tiepvu/w/tabml_book/book/_build/jupyter_execute/ch_data_processing/process_outliers_11_0.png"
      },
      "needs_background": "light"
     },
     "output_type": "display_data"
    }
   ],
   "source": [
    "clipped_total_rooms = BoxplotOutlierClipper().fit_transform(df_housing[\"total_rooms\"])\n",
    "\n",
    "fig, axes = plt.subplots(nrows=1, ncols=2, figsize=(15, 5))\n",
    "clipped_total_rooms.hist(bins=50, ax=axes[0])\n",
    "clipped_total_rooms.to_frame().boxplot(ax=axes[1], vert=False);"
   ]
  },
  {
   "cell_type": "markdown",
   "id": "e2834eec",
   "metadata": {},
   "source": [
    "Sau khi clip dữ liệu theo cực tiểu và cực đại của box plot, ta thấy rằng dữ liệu _đỡ_ bị lệch đi. Box plot cũng cho thấy không còn điểm dữ liệu ngoại lệ nào.\n",
    "\n",
    "```{margin}\n",
    "Su khi clip dữ liệu bằng cực đại và cực tiểu của boxplot, dữ liệu mới luôn luôn không có điểm ngoại lệ. Điều này đạt được vì phép biến đổi clip không làm thay đổi tứ phân vị của dữ liệu. Khoảng \"hợp lệ\" của boxplot trước và sau clip không thay đổi.\n",
    "```\n",
    "\n",
    "Tiếp theo, ta thử áp dụng phương pháp này vào ví dụ đầu tiên."
   ]
  },
  {
   "cell_type": "code",
   "execution_count": 7,
   "id": "294062f1",
   "metadata": {},
   "outputs": [
    {
     "data": {
      "image/png": "[encoded data removed]",
      "text/plain": [
       "<Figure size 504x432 with 1 Axes>"
      ]
     },
     "metadata": {
      "filenames": {
       "image/png": "/home/tiepvu/w/tabml_book/book/_build/jupyter_execute/ch_data_processing/process_outliers_13_0.png"
      },
      "needs_background": "light"
     },
     "output_type": "display_data"
    }
   ],
   "source": [
    "df_example[\"height_2_clipped\"] = BoxplotOutlierClipper().fit_transform(\n",
    "    df_example[\"height_2\"]\n",
    ")\n",
    "\n",
    "plt.figure(figsize=(7, 6))\n",
    "fit_linear_regression_and_visualize(\n",
    "    df_example, input_col=\"height_2_clipped\", label_col=\"weight\"\n",
    ")"
   ]
  },
  {
   "cell_type": "markdown",
   "id": "0ebdf8e1",
   "metadata": {},
   "source": [
    "Như vậy, sau khi xử lý điểm dữ liệu ngoại lệ, mô hình học được (đường thẳng màu xanh) cho kết quả hợp lý hơn."
   ]
  },
  {
   "cell_type": "markdown",
   "id": "2a92996b",
   "metadata": {},
   "source": [
    "### Z score\n",
    "\n",
    "Nếu bạn tin rằng các giá trị trong một trường dữ liệu tuân theo phân phối chuẩn, bạn có thể áp dụng quy tắc $3 \\sigma$ cho phân phối chuẩn.\n",
    "\n",
    "Trong phân phối chuẩn, giả sử $\\mu$ là kỳ vọng và $\\sigma$ là độ lệch chuẩn.\n",
    "Quy tắc $3 \\sigma$ cho phân phối chuẩn nói rằng:\n",
    "\n",
    "* 68% các điểm dữ liệu nằm trong khoảng $\\mu \\pm \\sigma$\n",
    "* 95% các điểm dữ liệu nằm trong khoảng $\\mu \\pm 2\\sigma$\n",
    "* 99.7% các điểm dữ liệu nằm trong khoảng $\\mu \\pm 3\\sigma$\n",
    "\n",
    "Với một điểm dữ liệu $x$, z score của nó được tính bởi:\n",
    "\n",
    "$$\n",
    "\\frac{x - \\mu}{\\sigma}\n",
    "$$\n",
    "\n",
    "Những điểm có z score nằm ngoài đoạn $[-3, 3]$ có thể được coi là các điểm ngoại lệ. Biến đổi toán học một chút, việc này tương đương với việc các điểm nằm ngoài đoạn $[\\mu - 3\\sigma, \\mu + 3\\sigma]$ được coi là các điểm ngoại lệ."
   ]
  },
  {
   "cell_type": "code",
   "execution_count": 8,
   "id": "51223e06",
   "metadata": {},
   "outputs": [],
   "source": [
    "class ZscoreOutlierClipper(BaseEstimator, TransformerMixin):\n",
    "    def __init__(self, z_threshold: float = 3):\n",
    "        self.z_threshold = z_threshold\n",
    "        self.lower = None\n",
    "        self.upper = None\n",
    "\n",
    "    def fit(self, X: pd.Series):\n",
    "        mean = X.mean()\n",
    "        std = X.std()\n",
    "        self.lower = mean - self.z_threshold * std\n",
    "        self.upper = mean + self.z_threshold * std\n",
    "        return self\n",
    "\n",
    "    def transform(self, X):\n",
    "        return X.clip(self.lower, self.upper)"
   ]
  },
  {
   "cell_type": "markdown",
   "id": "fadcb407",
   "metadata": {},
   "source": [
    "Áp dụng vào dữ liệu của cột `total_rooms` ta có."
   ]
  },
  {
   "cell_type": "code",
   "execution_count": 9,
   "id": "bccf1f71",
   "metadata": {},
   "outputs": [
    {
     "data": {
      "image/png": "[encoded data removed]",
      "text/plain": [
       "<Figure size 432x288 with 1 Axes>"
      ]
     },
     "metadata": {
      "filenames": {
       "image/png": "/home/tiepvu/w/tabml_book/book/_build/jupyter_execute/ch_data_processing/process_outliers_18_0.png"
      },
      "needs_background": "light"
     },
     "output_type": "display_data"
    }
   ],
   "source": [
    "clipped_total_rooms2 = ZscoreOutlierClipper().fit_transform(df_housing[\"total_rooms\"])\n",
    "clipped_total_rooms2.hist(bins=50);"
   ]
  },
  {
   "cell_type": "markdown",
   "id": "a131f9ab",
   "metadata": {},
   "source": [
    "Ta có một vài nhận xét dưới đây:\n",
    "\n",
    "* So với box plot, z score trong trường hợp này trả về khoảng giá trị rộng hơn. Các giá trị lớn hơn khoảng 9000 mới được coi là ngoại lệ trong khi con số chặn trên của box plot là khoảng gần 6000.\n",
    "\n",
    "* Phương pháp z score này nhạy cảm với các giá trị cực kỳ ngoại lệ. Một giá trị ngoại lệ lớn sẽ làm dịch chuyển kỳ vọng sang phía phải và độ lệch chuẩn cũng lớn hơn. Việc này dẫn đến một định nghĩa khác về các giá trị chặn trên và chặn dưới. Ngược lại, với box plot, việc có một giá trị ngoại lệ cực kỳ lớn không làm thay đổi các mốc tứ phân vị, vì vậy chặn trên và chặn dưới không bị ảnh hưởng.\n",
    "\n",
    "* Sau khi áp dụng phương pháp clip bằng z score và tính tiếp z score theo dữ liệu mới, ta sẽ lại có thể tìm ra các điểm ngoại lệ mới như dưới đây:"
   ]
  },
  {
   "cell_type": "code",
   "execution_count": 10,
   "id": "b9d26ff1",
   "metadata": {},
   "outputs": [
    {
     "data": {
      "image/png": "[encoded data removed]",
      "text/plain": [
       "<Figure size 432x288 with 1 Axes>"
      ]
     },
     "metadata": {
      "filenames": {
       "image/png": "/home/tiepvu/w/tabml_book/book/_build/jupyter_execute/ch_data_processing/process_outliers_20_0.png"
      },
      "needs_background": "light"
     },
     "output_type": "display_data"
    }
   ],
   "source": [
    "clipped_total_rooms3 = ZscoreOutlierClipper().fit_transform(clipped_total_rooms2)\n",
    "clipped_total_rooms3.hist(bins=50);"
   ]
  },
  {
   "cell_type": "markdown",
   "id": "0f799470",
   "metadata": {},
   "source": [
    "Lúc này, chặn trên đã dịch chuyển về phía trái của 8000.\n",
    "Như vậy, phương pháp z score khá nhạy cảm với nhiễu lớn và không ổn định bằng phương pháp box plot.\n",
    "\n",
    "\n",
    "## Dữ liệu hạng mục\n",
    "\n",
    "Khác với trường hợp dữ liệu số, dữ liệu ngoại lệ trong các trường thông tin hạng mục khó phát hiện ra hơn. Một phần vì việc khó vẽ histogram, đặc biệt khi có nhiều giá trị hạng mục khác nhau, một phần khác các điểm ngoại lệ dạng này cần phải có kiến thức chuyên môn về các giá trị hợp lệ.\n",
    "\n",
    "Với dữ liệu hạng mục, giá trị ngoại lệ có thể xảy ra ở một trong các trường hợp sau:\n",
    "\n",
    "* Do sai khác trong cách nhập dữ liệu. Ví dụ, một phần dữ liệu thu được ở dạng viết hoa, một phần nhỏ khác lại ở dạng viết thường, như \"VIỆT NAM\" và \"việt nam\". Một ví dụ khác là việc một hạng mục có nhiều tên khác nhau, chẳng hạn \"Thành phố\" và \"Tp\". Trong trường hợp này, ta cần chuẩn hóa các giá trị về cùng một dạng để loại bỏ các điểm ngoại lệ.\n",
    "\n",
    "* Do lỗi chính tả khiến một vài mẫu có giá trị khác hẳn với phần còn lại. Để xử lý dữ liệu sai lỗi chính tả, ta có thể vẽ histogram thể hiện tần suất của từng giá trị trong toàn bộ dữ liệu. Thông thường, những lỗi chính tả nằm ở những hạng mục có tần suất thấp. Những lỗi này cần phải được sửa trước khi đi vào bước tiếp theo.\n",
    "\n",
    "* Một vài hạng mục xuất hiện quá ít trong dữ liệu. Các giá trị này có thể cần xử lý hoặc không, câu trả lời có thể đạt được thông qua thí nghiệm. Những hạng mục có tần suất thấp dễ khiến mô hình bị overfitting. Tuy nhiên, có những trường hợp mà những giá trị này có quan hệ chặt chẽ tới cột nhãn ta không nên bỏ đi. Nếu cần phải xử lý, một cách thông dụng là nhóm các hạng mục có tần suất thấp thành một hạng mục mới, có thể đặt tên là \"rare\" (_khan hiếm_).\n",
    "\n",
    "* Hạng mục không xuất hiện trong tập huấn luyện. Rất nhiều trường hợp mà một giá trị ở bước \"Serving\" chưa từng xuất hiện trong cơ sở dữ liệu cũ. Điều này thường xuyên xảy ra với các hệ thống gợi ý khi người dùng và sản phẩm thay đổi liên tục. Với trường hợp này, cách phổ biến là tạo thêm một hạng mục mới gọi là \"unknown\" (_chưa biết_) khi xây dựng dữ liệu huấn luyện. Bất cứ khi nào có một giá trị mới, ta có thể xếp nó vào hạng mục này.\n",
    "\n",
    "Một phương pháp cũng được sử dụng nhiều thời gian gần đây đối với hai trường hợp cuối cùng là {ref}`sec_hashing`, chúng ta sẽ tìm hiểu sau.\n",
    "\n",
    "Dưới đây là histogram của cột `ocean_proximity` của tập dữ liệu California Housing. Đây là một trường dữ liệu hạng mục với năm giá trị khác nhau. Ở đây, hạng mục `ISLAND` có tần suất rất thấp nhưng chúng ta không thể bỏ qua."
   ]
  },
  {
   "cell_type": "code",
   "execution_count": 11,
   "id": "53e7d641",
   "metadata": {
    "tags": [
     "hide-input"
    ]
   },
   "outputs": [
    {
     "data": {
      "image/png": "[encoded data removed]",
      "text/plain": [
       "<Figure size 432x288 with 1 Axes>"
      ]
     },
     "metadata": {
      "filenames": {
       "image/png": "/home/tiepvu/w/tabml_book/book/_build/jupyter_execute/ch_data_processing/process_outliers_22_0.png"
      },
      "needs_background": "light"
     },
     "output_type": "display_data"
    }
   ],
   "source": [
    "df_housing[\"ocean_proximity\"].hist();"
   ]
  },
  {
   "cell_type": "markdown",
   "id": "300591bd",
   "metadata": {},
   "source": [
    "Để quyết định xem ta có nên gộp `ISLAND` vào một trong các hạng mục còn lại không, ta có thể vẽ histogram theo cột nhãn, ở đây là `medien_house_value` với các giá trị khác nhau của `ocean_proximity`."
   ]
  },
  {
   "cell_type": "code",
   "execution_count": 12,
   "id": "92db0218",
   "metadata": {
    "tags": [
     "hide-input"
    ]
   },
   "outputs": [
    {
     "data": {
      "text/plain": [
       "Text(0.5, 1.0, 'NOT ISLAND')"
      ]
     },
     "execution_count": 12,
     "metadata": {},
     "output_type": "execute_result"
    },
    {
     "data": {
      "image/png": "[encoded data removed]",
      "text/plain": [
       "<Figure size 1080x720 with 4 Axes>"
      ]
     },
     "metadata": {
      "filenames": {
       "image/png": "/home/tiepvu/w/tabml_book/book/_build/jupyter_execute/ch_data_processing/process_outliers_24_1.png"
      },
      "needs_background": "light"
     },
     "output_type": "display_data"
    }
   ],
   "source": [
    "fig, axes = plt.subplots(nrows=2, ncols=2, figsize=(15, 10));\n",
    "df_housing[df_housing[\"ocean_proximity\"] == \"ISLAND\"][\"median_house_value\"].hist(ax=axes[0][0])\n",
    "axes[0][0].set_title(\"ISLAND\")\n",
    "df_housing[df_housing[\"ocean_proximity\"] == \"NEAR BAY\"][\"median_house_value\"].hist(bins=50, ax=axes[0][1]);\n",
    "axes[0][1].set_title(\"NEAR BAY\")\n",
    "df_housing[df_housing[\"ocean_proximity\"] == \"NEAR OCEAN\"][\"median_house_value\"].hist(bins=50, ax=axes[1][0]);\n",
    "axes[1][0].set_title(\"NEAR OCEAN\")\n",
    "df_housing[df_housing[\"ocean_proximity\"] != \"ISLAND\"][\"median_house_value\"].hist(bins=50, ax=axes[1][1]);\n",
    "axes[1][1].set_title(\"NOT ISLAND\")"
   ]
  },
  {
   "cell_type": "markdown",
   "id": "ddf35fe5",
   "metadata": {},
   "source": [
    "Ta có thể thấy rằng các căn nhà ở `ISLAND` có giá trị khá cao, từ khoảng $300k trở lên trong khi các khu vực khác có giá tập trung ở các phân khúc thấp hơn. Dường như `ISLAND` là một dấu hiệu tốt để định giá các căn nhà và nên được đối xử như một hạng mục riêng biệt. Tuy nhiên, bạn cũng có thể thử gộp `ISLAND` với một hạng mục nào đó và thử.\n",
    "\n",
    "Trong Machine Learning, không có một phương pháp tuyệt đối đúng nhất. Việc xác định ý tưởng nào tốt hơn hầu hết dựa trên nhiều thí nghiệm. Với ràng buộc về thời gian và nguồn lực, bạn nên bắt đầu với những ý tưởng mà bạn có cảm quan sẽ mang lại kết quả tốt hơn trước.\n",
    "\n",
    "Nếu muốn gộp `ISLAND` vào một giá trị khác, chẳng hạn `NEAR BAY`, ta có thể làm như sau:"
   ]
  },
  {
   "cell_type": "code",
   "execution_count": 13,
   "id": "bb8c0113",
   "metadata": {},
   "outputs": [
    {
     "data": {
      "image/png": "[encoded data removed]",
      "text/plain": [
       "<Figure size 432x288 with 1 Axes>"
      ]
     },
     "metadata": {
      "filenames": {
       "image/png": "/home/tiepvu/w/tabml_book/book/_build/jupyter_execute/ch_data_processing/process_outliers_26_0.png"
      },
      "needs_background": "light"
     },
     "output_type": "display_data"
    }
   ],
   "source": [
    "df_housing[df_housing[\"ocean_proximity\"] == \"ISLAND\"] = \"NEAR BAY\"\n",
    "df_housing[\"ocean_proximity\"].hist();"
   ]
  },
  {
   "cell_type": "markdown",
   "id": "4c2ea6dc",
   "metadata": {},
   "source": [
    "Sau khi gộp, ta thấy rằng cột `ocean_proximity` chỉ còn lại bốn hạng mục.\n",
    "\n",
    "[^1]: Đôi khi được gọi là \"ngoại lai\".\n",
    "\n",
    "[^2]: Giá trị đặc biệt này cũng có thể mang lại nhiều thông tin cho việc dự đoán. Cần kiểm tra kỹ mối tương quan giữa cột dữ liệu tương ứng và cột nhãn."
   ]
  }
 ],
 "metadata": {
  "jupytext": {
   "text_representation": {
    "extension": ".md",
    "format_name": "myst",
    "format_version": 0.12,
    "jupytext_version": "1.8.2"
   }
  },
  "kernelspec": {
   "display_name": "tabml_book_env",
   "language": "python",
   "name": "tabml_book_env"
  },
  "language_info": {
   "codemirror_mode": {
    "name": "ipython",
    "version": 3
   },
   "file_extension": ".py",
   "mimetype": "text/x-python",
   "name": "python",
   "nbconvert_exporter": "python",
   "pygments_lexer": "ipython3",
   "version": "3.8.5"
  },
  "source_map": [
   12,
   32,
   45,
   53,
   89,
   117,
   123,
   127,
   135,
   140,
   174,
   178,
   184,
   194,
   203,
   207,
   228,
   244,
   248,
   251,
   261,
   264,
   288,
   292,
   296,
   308,
   316,
   319
  ]
 },
 "nbformat": 4,
 "nbformat_minor": 5
}