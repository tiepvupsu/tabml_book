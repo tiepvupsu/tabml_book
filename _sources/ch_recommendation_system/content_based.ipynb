{
 "cells": [
  {
   "cell_type": "markdown",
   "id": "431da4de",
   "metadata": {},
   "source": [
    "# Hệ thống dựa trên nội dung\n",
    "\n",
    "## Giới thiệu\n",
    "\n",
    "Hệ thống gợi ý dựa trên nội dung là hệ thống đơn giản nhất. Trong hệ thống này, mô hình dự đoán liệu một người dùng có thích một sản phẩm không dựa trên lịch sử dữ liệu của người dùng đó đối với các sản phẩm tương tự. Độ quan tâm của những người dùng khác không được sử dụng.\n",
    "\n",
    "Nhìn dưới góc độ xây dựng mô hình dự đoán, hệ thống xây dựng một mô hình machine learning cho mỗi người dùng. Mỗi sản phẩm sẽ được mô tả bởi một vector đặc trưng. Để dự đoán mức độ yêu thích của mỗi người dùng đối với một sản phẩm, ta chỉ cần đưa vector đặc trưng của sản phẩm vào mô hình đã được xây dựng cho người dùng đó. Bài toán *Hoàn thiện ma trận* bây giờ đơn giản là bài toán *Hoàn thiện vector*.\n",
    "\n",
    "```{figure} imgs/one_user.png\n",
    "---\n",
    "name: img_utility_vector\n",
    "---\n",
    "Vector Utility\n",
    "```\n",
    "\n",
    "\n",
    "**Ưu điểm**:\n",
    "\n",
    "* Việc xây dựng mô hình cho mỗi người dùng độc lập với nhau, vì vậy khi có dữ liệu mới từ những người dùng khác, ta không cần cập nhật mô hình cho người dùng này. Việc này giúp hệ thống có thể phục vụ được lượng người dùng lớn một cách dễ dàng.\n",
    "\n",
    "* Nếu một sản phẩm rất ít người quan tâm nhưng giống với những sản phẩm khác mà một người dùng từng thích, sản phẩm đó sẽ có cơ hội cao được giới thiệu tới người dùng.\n",
    "\n",
    "**Nhược điểm**:\n",
    "\n",
    "* Thông tin về những người dùng tương tự có thể rất hữu ích nhưng không được khai thác, làm giảm độ chính xác của mô hình.\n",
    "\n",
    "* Mô hình chỉ dựa trên những dữ liệu đã có mà không mở rộng sự yêu thích của người dùng tới những sản phẩm khác.\n",
    "\n",
    "* Việc xây dựng đặc trưng cho sản phẩm đôi khi phải được thực hiện thủ công, ví dụ gán nhãn thể loại. Điều này sẽ hạn chế năng lực của hệ thống khi có rất nhiều sản phẩm.\n",
    "\n",
    "Mục dưới đây sẽ mang đến cho bạn đọc một ví dụ về việc sử dụng thể loại để xây dựng vector đặc trưng cho các bộ phim và xây dựng mô hình cho mỗi người dùng."
   ]
  },
  {
   "cell_type": "markdown",
   "id": "93ddd752",
   "metadata": {},
   "source": [
    "## Ví dụ với bộ dữ liệu MovieLens-1M"
   ]
  },
  {
   "cell_type": "markdown",
   "id": "1cb0e061",
   "metadata": {},
   "source": [
    "### Ý tưởng\n",
    "Bộ dữ liệu MovieLens-1M đã có sẵn các thể loại phim, ta có thể trực tiếp sử dụng các thể loại này để xây dựng vector đặc trưng cho mỗi bộ phim.\n",
    "\n",
    "Ta có thể xây dựng vector đặc trưng cho mỗi bộ phim như sau. Vì có 19 thể loại phim, ta xây dựng một vector nhị phân $\\mathbf{x}$ trong không gian 19 chiều, mỗi chiều tương ứng với một thể loại. Nếu một bộ phim thuộc vào một thể loại có chỉ số $k$, ta gán phần tử tương ứng $x_k$ giá chị bằng 1. Ngược lại, giá trị của phần tử tương ứng bằng 0.\n",
    "\n",
    "Với mỗi người dùng, một mô hình đơn giản là đi tìm mức độ yêu thích của người dùng tới từng thể loại. Ta có thể dùng một vector 19 chiều $\\mathbf{w}_i$ để mô tả các mức độ đó. Mỗi đánh giá của người dùng $i$ cho một bộ phim $j$ có thể được mô tả bởi:\n",
    "\n",
    "```{math}\n",
    ":label: content_based_lr\n",
    "r_{ij} \\approx \\mathbf{w}_i^T\\mathbf{x}_j + b_i = w_i^0 x_j^0 + w_i^1x_j^1 + \\dots w_i^{18} x_j^{18} + b_i  \n",
    "```\n",
    "\n",
    "Việc xâp xỉ này khá dễ hình dung:\n",
    "\n",
    "* Nếu người dùng thích thể loại phim $k$ thì hệ số $w_i^k$ lớn để số hạng $w_i^kx_j^k$ cũng lớn.\n",
    "* Nếu người dùng thường xuyên cho đánh giá thấp phim thuộc thể loại $l$, hệ số $w_i^l$ cần nhỏ để số hạng $w_i^lx_j^l$ nhỏ.\n",
    "* Hệ số tự do $b_i$ có thể được coi là \"độ khó tính\" của người dùng. Nếu giá trị này nhỏ, $r_ij$ cùng nhỏ theo và ngược lại.\n",
    "\n",
    "Nhận thấy rằng biểu thức {eq}`content_based_lr` chính là dạng của [hồi quy tuyến tính](https://machinelearningcoban.com/2016/12/28/linearregression/). Ta có thể sử dụng [Hồi quy Ridge](https://scikit-learn.org/stable/modules/generated/sklearn.linear_model.Ridge.html) (hồi quy tuyến tính + regularization trên trọng số $\\mathbf{w}$) cho hệ thống này.\n",
    "\n",
    "### Triển khai ý tưởng \n",
    "Đầu tiên ta download bộ dữ liệu Movielens-1m và lấy 10% số lượng đánh giá ra làm dữ liệu kiểm thử.\n",
    "\n",
    ":::{note}\n",
    "Trong bài toán thực tế, ta cần phân chia dữ liệu theo thời gian. Những đánh giá xuất hiện sau nên được tách ra làm bộ kiểm thử. Việc làm này có thể giúp mô hình hóa hành vi của người dùng theo thời gian. Khi đó ta cần dùng thêm cột thời gian trong dữ liệu đánh giá làm đặc trưng. Bạn đọc có thể thực hành bằng cách thay đổi cách phân chia dữ liệu theo thời gian. Để giữ nội dung phần này đơn giản, chúng ta sẽ phân chia dữ liệu ngẫu nhiên và không sử dụng biến thời gian.\n",
    ":::\n",
    "\n",
    "#### Tải và phân chia dữ liệu"
   ]
  },
  {
   "cell_type": "code",
   "execution_count": 1,
   "id": "15b4a502",
   "metadata": {},
   "outputs": [],
   "source": [
    "import pandas as pd\n",
    "import tabml.datasets\n",
    "from sklearn.model_selection import train_test_split\n",
    "\n",
    "df_dict = tabml.datasets.download_movielen_1m()\n",
    "users, movies, ratings = df_dict[\"users\"], df_dict[\"movies\"], df_dict[\"ratings\"]\n",
    "\n",
    "train_ratings, validation_ratings = train_test_split(\n",
    "    ratings, test_size=0.1, random_state=42\n",
    ")"
   ]
  },
  {
   "cell_type": "code",
   "execution_count": 2,
   "id": "e2440f86",
   "metadata": {},
   "outputs": [
    {
     "name": "stdout",
     "output_type": "stream",
     "text": [
      "There are 5970 users in validation set.\n",
      "Total number of users: 6040\n"
     ]
    }
   ],
   "source": [
    "users_in_validation = validation_ratings[\"UserID\"].unique()\n",
    "all_users = users[\"UserID\"].unique()\n",
    "\n",
    "print(f\"There are {len(users_in_validation)} users in validation set.\")\n",
    "print(f\"Total number of users: {len(all_users)}\")"
   ]
  },
  {
   "cell_type": "markdown",
   "id": "014d8107",
   "metadata": {},
   "source": [
    "Sau khi phân chia dữ liệu, tập kiểm thử (validation set) chỉ chứa dữ liệu của 5970/6040 người dùng. \n",
    "\n",
    "#### Xây dựng đặc trưng cho các bộ phim\n",
    "Việc đầu tiên là đánh số thứ tự cho các bộ phim và xây dựng một ánh xạ giữa các chỉ số này tới `MovieID`."
   ]
  },
  {
   "cell_type": "code",
   "execution_count": 3,
   "id": "9c4e9c12",
   "metadata": {},
   "outputs": [],
   "source": [
    "movie_index_by_id = {id: i for i, id in enumerate(movies[\"MovieID\"])}"
   ]
  },
  {
   "cell_type": "markdown",
   "id": "3d3c608d",
   "metadata": {},
   "source": [
    "Tiếp theo, ta sẽ xây dựng vector đặc trưng nhị phân cho mỗi bộ phim như mô tả ở trên. Các vector này được gom lại trong một mảng numpy."
   ]
  },
  {
   "cell_type": "code",
   "execution_count": 4,
   "id": "db6ec3fc",
   "metadata": {},
   "outputs": [],
   "source": [
    "genres = [\n",
    "    \"Action\",\n",
    "    \"Adventure\",\n",
    "    \"Animation\",\n",
    "    \"Children's\",\n",
    "    \"Comedy\",\n",
    "    \"Crime\",\n",
    "    \"Documentary\",\n",
    "    \"Drama\",\n",
    "    \"Fantasy\",\n",
    "    \"Film-Noir\",\n",
    "    \"Horror\",\n",
    "    \"Musical\",\n",
    "    \"Mystery\",\n",
    "    \"Romance\",\n",
    "    \"Sci-Fi\",\n",
    "    \"Thriller\",\n",
    "    \"War\",\n",
    "    \"Western\",\n",
    "]\n",
    "genre_index_by_name = {name:i for i, name in enumerate(genres)}\n",
    "\n",
    "import numpy as np\n",
    "# build binary array for movie genres\n",
    "movie_features = np.zeros((len(movies), len(genres)))\n",
    "for i, movie_genres in enumerate(movies[\"Genres\"]):\n",
    "    for genre in movie_genres.split(\"|\"):        \n",
    "        genre_index = genre_index_by_name[genre]\n",
    "        movie_features[i, genre_index] = 1"
   ]
  },
  {
   "cell_type": "markdown",
   "id": "c8e9d763",
   "metadata": {},
   "source": [
    "#### Huấn luyện mô hình\n",
    "\n",
    "Với mỗi người dùng, ta sẽ xây dựng một bộ hồi quy Ridge dựa trên các đánh giá cho các bộ phim trong tập huấn luyện:"
   ]
  },
  {
   "cell_type": "code",
   "execution_count": 5,
   "id": "d80fcd18",
   "metadata": {},
   "outputs": [],
   "source": [
    "from sklearn.linear_model import Ridge\n",
    "\n",
    "\n",
    "def train_user_model(user_id):\n",
    "    user_ratings = train_ratings[train_ratings[\"UserID\"] == user_id]\n",
    "    movie_indexes = [\n",
    "        movie_index_by_id[movie_id] for movie_id in user_ratings[\"MovieID\"]\n",
    "    ]\n",
    "    train_data = movie_features[movie_indexes]\n",
    "    train_label = user_ratings[\"Rating\"]\n",
    "    model = Ridge(alpha=0.1)\n",
    "    model.fit(train_data, train_label)\n",
    "    return model\n",
    "\n",
    "\n",
    "# build model for each user\n",
    "user_model_dict = {}\n",
    "for user_id in users[\"UserID\"].unique():\n",
    "    user_model_dict[user_id] = train_user_model(user_id)"
   ]
  },
  {
   "cell_type": "markdown",
   "id": "eccac884",
   "metadata": {},
   "source": [
    "Để dự đoán độ yêu thích của một người dùng tới một bộ phim, ta chỉ cần đưa vector đặc trưng vào mô hình ứng với người dùng đó. Vì các đánh giá nằm trong đoạn từ 1 tới 5, ta cần _cắt_ những dự đoán nằm ngoài khoảng này:"
   ]
  },
  {
   "cell_type": "code",
   "execution_count": 6,
   "id": "7e4d81ef",
   "metadata": {},
   "outputs": [],
   "source": [
    "def predict(user_id, movie_id):\n",
    "    movie_feature = movie_features[movie_index_by_id[movie_id]].reshape((1, -1))\n",
    "    pred = user_model_dict[user_id].predict(movie_feature)\n",
    "    return min(max(pred, 1), 5)"
   ]
  },
  {
   "cell_type": "markdown",
   "id": "0a22cbe6",
   "metadata": {},
   "source": [
    "Cuối cùng, ta có thể đánh giá chất lượng hệ thống trên hai bộ dữ liệu huấn luyện và kiểm thử bằng [Root Mean Square Error - RMSE](https://en.wikipedia.org/wiki/Root-mean-square_deviation):"
   ]
  },
  {
   "cell_type": "code",
   "execution_count": 7,
   "id": "c986de79",
   "metadata": {},
   "outputs": [
    {
     "name": "stdout",
     "output_type": "stream",
     "text": [
      "RMSE train: 0.9298923151317949\n"
     ]
    },
    {
     "name": "stdout",
     "output_type": "stream",
     "text": [
      "RMSE validation: 1.0423634495127465\n"
     ]
    }
   ],
   "source": [
    "from sklearn.metrics import mean_squared_error\n",
    "\n",
    "def eval_rmse(ratings: pd.DataFrame) -> float:\n",
    "    predictions = np.zeros(len(ratings))\n",
    "    for index, row in enumerate(ratings.itertuples(index=False)):\n",
    "        predictions[index] = predict(row[0], row[1])\n",
    "    rmse = mean_squared_error(ratings[\"Rating\"], predictions, squared=False)\n",
    "    return rmse\n",
    "    \n",
    "print(f\"RMSE train: {eval_rmse(train_ratings)}\")\n",
    "print(f\"RMSE validation: {eval_rmse(validation_ratings)}\")\n",
    "    "
   ]
  },
  {
   "cell_type": "markdown",
   "id": "c65f3315",
   "metadata": {},
   "source": [
    "Trên tập huấn luyện, RMSE = 0.93, trên tập kiểm thử, RMSE = 1.04. Như vậy, trên tập kiểm thử, mỗi dự đoán bị lệch khoảng 1.04 điểm. Không quá tệ cho một hệ thống đơn giản.\n",
    "\n",
    "#### Kiểm tra kết quả\n",
    "Ta cùng xem các hệ số của người dùng có mã số 160:"
   ]
  },
  {
   "cell_type": "code",
   "execution_count": 8,
   "id": "2af78ebb",
   "metadata": {},
   "outputs": [
    {
     "name": "stdout",
     "output_type": "stream",
     "text": [
      "Action         : -0.308\n",
      "Adventure      : 0.710\n",
      "Animation      : 0.198\n",
      "Children's     : -0.199\n",
      "Comedy         : -0.712\n",
      "Crime          : 0.332\n",
      "Documentary    : 0.000\n",
      "Drama          : 0.225\n",
      "Fantasy        : -0.396\n",
      "Film-Noir      : 0.000\n",
      "Horror         : 0.050\n",
      "Musical        : 0.198\n",
      "Mystery        : 0.000\n",
      "Romance        : 0.771\n",
      "Sci-Fi         : -0.373\n",
      "Thriller       : -0.838\n",
      "War            : -1.439\n",
      "Western        : 0.000\n"
     ]
    }
   ],
   "source": [
    "user_id = 160\n",
    "for genre, coef in zip(genres, user_model_dict[user_id].coef_):\n",
    "    print(\"{:15s}: {:.3f}\".format(genre, coef))"
   ]
  },
  {
   "cell_type": "markdown",
   "id": "7817d750",
   "metadata": {},
   "source": [
    "Từ những hệ số thu được, ta có thể dự đoán được:\n",
    "1. Người dùng này ưa thích các bộ phim về `Adventure` và `Romance`, là những thể loại có trọng số lớn.\n",
    "\n",
    "2. Người dùng này không thích các bộ phim về `Comedy` và `War`, hệ thống không nên gợi ý những bộ phim thuộc hai thể loại này cho người dùng.\n",
    "\n",
    "3. Có một số thể loại như `Documentary, Mystery` và `Western` có hệ số bằng 0. Điều này chứng tỏ có thể người dùng chưa từng đánh giá các phim thuộc thể loại này. Các hệ số bằng 0 này xảy ra nhờ có thành phần regularization trong hồi quy Ridge. Nếu không có ràng buộc từ regularization, hệ số này có thể nhận giá trị bất kỳ mà không ảnh hưởng tới kết quả tìm được do giá trị tương ứng trong vector đặc trưng của các bộ phim mà người dùng này từng đánh giá luôn luôn bằng 0.\n",
    "\n",
    "Với một bộ phim mới mà các thể loại chỉ nằm trong số những thể loại người dùng chưa từng đánh giá, hệ thống luôn luôn dự đoán điểm đánh giá bằng hệ số tự do $b_i$. Với người dùng ở vị trị 160, hệ số này bằng:"
   ]
  },
  {
   "cell_type": "code",
   "execution_count": 9,
   "id": "8a8d442e",
   "metadata": {},
   "outputs": [
    {
     "data": {
      "text/plain": [
       "3.782891147446579"
      ]
     },
     "execution_count": 9,
     "metadata": {},
     "output_type": "execute_result"
    }
   ],
   "source": [
    "user_model_dict[user_id].intercept_"
   ]
  },
  {
   "cell_type": "markdown",
   "id": "961041eb",
   "metadata": {},
   "source": [
    "Đây là một số điểm cao, chỉ cho ta thấy rằng nên gợi ý những phim ở các thể loại này. Với những người dùng khác mà hệ số này thấp một cách ngẫu nhiên, không lẽ hệ thống nên luôn luôn tránh gợi ý? Điều này rõ ràng vô lý vì đây chỉ là một giá trị ngẫu nhiên, hệ thống chưa bao giờ biết độ quan tâm của người dùng tới những bộ phim này."
   ]
  },
  {
   "cell_type": "markdown",
   "id": "d453914f",
   "metadata": {},
   "source": [
    "## Thảo luận \n",
    "\n",
    "* Các hệ thống dựa trên nội dung tương đối đơn giản và có thể được huấn luyện một cách nhanh chóng. Việc dự đoán cho mỗi người dùng chỉ dựa trên dữ liệu của người dùng đó mà không quan tâm đến những người dùng khác.\n",
    "\n",
    "* Hệ thống dựa trên đặc trưng gặp khó khăn trong các trường hợp người dùng mới khi không có thông tin gì của người dùng đó với các sản phẩm.\n",
    "\n",
    "* Bạn đọc có thể thử với các cách xây dựng vector đặc trưng khác cho mỗi bộ phim. Chẳng hạn, thêm đặc trưng phim cũ/mới dựa trên năm ra mắt hoặc chuẩn hóa vector đặc trưng cho mỗi bộ phim sao cho tổng các trọng số cho các thể loại bằng 1."
   ]
  }
 ],
 "metadata": {
  "jupytext": {
   "text_representation": {
    "extension": ".md",
    "format_name": "myst",
    "format_version": 0.13,
    "jupytext_version": "1.10.3"
   }
  },
  "kernelspec": {
   "display_name": "Python 3",
   "language": "python",
   "name": "python3"
  },
  "language_info": {
   "codemirror_mode": {
    "name": "ipython",
    "version": 3
   },
   "file_extension": ".py",
   "mimetype": "text/x-python",
   "name": "python",
   "nbconvert_exporter": "python",
   "pygments_lexer": "ipython3",
   "version": "3.8.5"
  },
  "source_map": [
   12,
   46,
   50,
   81,
   94,
   100,
   107,
   109,
   113,
   143,
   149,
   169,
   173,
   178,
   182,
   195,
   202,
   206,
   217,
   219,
   223
  ]
 },
 "nbformat": 4,
 "nbformat_minor": 5
}