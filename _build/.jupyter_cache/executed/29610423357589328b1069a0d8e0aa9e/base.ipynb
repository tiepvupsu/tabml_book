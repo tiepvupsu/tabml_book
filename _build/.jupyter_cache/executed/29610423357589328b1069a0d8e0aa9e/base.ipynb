{
 "cells": [
  {
   "cell_type": "code",
   "execution_count": 1,
   "id": "a800a6b6",
   "metadata": {},
   "outputs": [],
   "source": [
    "import pandas as pd\n",
    "import tabml.datasets\n",
    "from sklearn.model_selection import train_test_split\n",
    "\n",
    "df_dict = tabml.datasets.download_movielen_1m()\n",
    "users, movies, ratings = df_dict[\"users\"], df_dict[\"movies\"], df_dict[\"ratings\"]\n",
    "\n",
    "train_ratings, validation_ratings = train_test_split(\n",
    "    ratings, test_size=0.1, random_state=42\n",
    ")"
   ]
  },
  {
   "cell_type": "code",
   "execution_count": 2,
   "id": "98048701",
   "metadata": {},
   "outputs": [
    {
     "name": "stdout",
     "output_type": "stream",
     "text": [
      "There are 5970 users in validation set.\n",
      "Total number of users: 6040\n"
     ]
    }
   ],
   "source": [
    "users_in_validation = validation_ratings[\"UserID\"].unique()\n",
    "all_users = users[\"UserID\"].unique()\n",
    "\n",
    "print(f\"There are {len(users_in_validation)} users in validation set.\")\n",
    "print(f\"Total number of users: {len(all_users)}\")"
   ]
  },
  {
   "cell_type": "code",
   "execution_count": 3,
   "id": "b0e1311e",
   "metadata": {},
   "outputs": [],
   "source": [
    "movie_index_by_id = {id: i for i, id in enumerate(movies[\"MovieID\"])}"
   ]
  },
  {
   "cell_type": "code",
   "execution_count": 4,
   "id": "ad124ab0",
   "metadata": {},
   "outputs": [],
   "source": [
    "genres = [\n",
    "    \"Action\",\n",
    "    \"Adventure\",\n",
    "    \"Animation\",\n",
    "    \"Children's\",\n",
    "    \"Comedy\",\n",
    "    \"Crime\",\n",
    "    \"Documentary\",\n",
    "    \"Drama\",\n",
    "    \"Fantasy\",\n",
    "    \"Film-Noir\",\n",
    "    \"Horror\",\n",
    "    \"Musical\",\n",
    "    \"Mystery\",\n",
    "    \"Romance\",\n",
    "    \"Sci-Fi\",\n",
    "    \"Thriller\",\n",
    "    \"War\",\n",
    "    \"Western\",\n",
    "]\n",
    "genre_index_by_name = {name:i for i, name in enumerate(genres)}\n",
    "\n",
    "import numpy as np\n",
    "# build binary array for movie genres\n",
    "movie_features = np.zeros((len(movies), len(genres)))\n",
    "for i, movie_genres in enumerate(movies[\"Genres\"]):\n",
    "    for genre in movie_genres.split(\"|\"):        \n",
    "        genre_index = genre_index_by_name[genre]\n",
    "        movie_features[i, genre_index] = 1"
   ]
  },
  {
   "cell_type": "code",
   "execution_count": 5,
   "id": "d7e62ba7",
   "metadata": {},
   "outputs": [],
   "source": [
    "from sklearn.linear_model import Ridge\n",
    "\n",
    "\n",
    "def train_user_model(user_id):\n",
    "    user_ratings = train_ratings[train_ratings[\"UserID\"] == user_id]\n",
    "    movie_indexes = [\n",
    "        movie_index_by_id[movie_id] for movie_id in user_ratings[\"MovieID\"]\n",
    "    ]\n",
    "    train_data = movie_features[movie_indexes]\n",
    "    train_label = user_ratings[\"Rating\"]\n",
    "    model = Ridge(alpha=0.1)\n",
    "    model.fit(train_data, train_label)\n",
    "    return model\n",
    "\n",
    "\n",
    "# build model for each user\n",
    "user_model_dict = {}\n",
    "for user_id in users[\"UserID\"].unique():\n",
    "    user_model_dict[user_id] = train_user_model(user_id)"
   ]
  },
  {
   "cell_type": "code",
   "execution_count": 6,
   "id": "90e96e74",
   "metadata": {},
   "outputs": [],
   "source": [
    "def predict(user_id, movie_id):\n",
    "    movie_feature = movie_features[movie_index_by_id[movie_id]].reshape((1, -1))\n",
    "    pred = user_model_dict[user_id].predict(movie_feature)\n",
    "    return min(max(pred, 1), 5)"
   ]
  },
  {
   "cell_type": "code",
   "execution_count": 7,
   "id": "af1b2f5f",
   "metadata": {},
   "outputs": [
    {
     "name": "stdout",
     "output_type": "stream",
     "text": [
      "RMSE train: 0.9298923151317949\n"
     ]
    },
    {
     "name": "stdout",
     "output_type": "stream",
     "text": [
      "RMSE validation: 1.0423634495127465\n"
     ]
    }
   ],
   "source": [
    "from sklearn.metrics import mean_squared_error\n",
    "\n",
    "def eval_rmse(ratings: pd.DataFrame) -> float:\n",
    "    predictions = np.zeros(len(ratings))\n",
    "    for index, row in enumerate(ratings.itertuples(index=False)):\n",
    "        predictions[index] = predict(row[0], row[1])\n",
    "    rmse = mean_squared_error(ratings[\"Rating\"], predictions, squared=False)\n",
    "    return rmse\n",
    "    \n",
    "print(f\"RMSE train: {eval_rmse(train_ratings)}\")\n",
    "print(f\"RMSE validation: {eval_rmse(validation_ratings)}\")\n",
    "    "
   ]
  },
  {
   "cell_type": "code",
   "execution_count": 8,
   "id": "f3961bdc",
   "metadata": {},
   "outputs": [
    {
     "name": "stdout",
     "output_type": "stream",
     "text": [
      "Action         : -0.308\n",
      "Adventure      : 0.710\n",
      "Animation      : 0.198\n",
      "Children's     : -0.199\n",
      "Comedy         : -0.712\n",
      "Crime          : 0.332\n",
      "Documentary    : 0.000\n",
      "Drama          : 0.225\n",
      "Fantasy        : -0.396\n",
      "Film-Noir      : 0.000\n",
      "Horror         : 0.050\n",
      "Musical        : 0.198\n",
      "Mystery        : 0.000\n",
      "Romance        : 0.771\n",
      "Sci-Fi         : -0.373\n",
      "Thriller       : -0.838\n",
      "War            : -1.439\n",
      "Western        : 0.000\n"
     ]
    }
   ],
   "source": [
    "user_id = 160\n",
    "for genre, coef in zip(genres, user_model_dict[user_id].coef_):\n",
    "    print(\"{:15s}: {:.3f}\".format(genre, coef))"
   ]
  },
  {
   "cell_type": "code",
   "execution_count": 9,
   "id": "3cd9ac1b",
   "metadata": {},
   "outputs": [
    {
     "data": {
      "text/plain": [
       "3.782891147446579"
      ]
     },
     "execution_count": 9,
     "metadata": {},
     "output_type": "execute_result"
    }
   ],
   "source": [
    "user_model_dict[user_id].intercept_"
   ]
  }
 ],
 "metadata": {
  "jupytext": {
   "text_representation": {
    "extension": ".md",
    "format_name": "myst",
    "format_version": 0.13,
    "jupytext_version": "1.10.3"
   }
  },
  "kernelspec": {
   "display_name": "Python 3",
   "language": "python",
   "name": "python3"
  },
  "language_info": {
   "codemirror_mode": {
    "name": "ipython",
    "version": 3
   },
   "file_extension": ".py",
   "mimetype": "text/x-python",
   "name": "python",
   "nbconvert_exporter": "python",
   "pygments_lexer": "ipython3",
   "version": "3.8.5"
  },
  "source_map": [
   12,
   46,
   50,
   81,
   94,
   100,
   107,
   109,
   113,
   143,
   149,
   169,
   173,
   178,
   182,
   195,
   202,
   206,
   217,
   219,
   223
  ]
 },
 "nbformat": 4,
 "nbformat_minor": 5
}