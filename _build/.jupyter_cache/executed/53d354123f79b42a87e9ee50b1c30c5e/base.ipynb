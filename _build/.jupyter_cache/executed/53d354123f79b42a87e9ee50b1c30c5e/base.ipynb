{
 "cells": [
  {
   "cell_type": "code",
   "execution_count": 1,
   "id": "892cc806",
   "metadata": {},
   "outputs": [
    {
     "name": "stdout",
     "output_type": "stream",
     "text": [
      "All tests passed\n"
     ]
    }
   ],
   "source": [
    "import numpy as np\n",
    "\n",
    "\n",
    "class NearestNeighbor:\n",
    "    \"\"\"Class supporting finding neareast embeddings of a query embeddings.\n",
    "\n",
    "    Attrubutes:\n",
    "        item_embeddings: a matrix of shape [N, k], such that row i is the embedding of\n",
    "            item i.\n",
    "        measure: One of (\"cosine\", \"dot\", \"l2\") specifying the similarity measure to be used\n",
    "    \"\"\"\n",
    "\n",
    "    def __init__(self, item_embeddings, measure=\"cosine\"):\n",
    "        assert measure in (\"dot\", \"cosine\", \"l2\")\n",
    "        self.measure = measure\n",
    "        self.item_embeddings = item_embeddings\n",
    "        if self.measure == \"cosine\":\n",
    "            # nomalize embeding\n",
    "            self.item_embeddings = item_embeddings / np.linalg.norm(\n",
    "                item_embeddings, axis=1, keepdims=True\n",
    "            )\n",
    "        elif self.measure == \"l2\":\n",
    "            self.squared_item_embedding = (item_embeddings ** 2).sum(axis=1)\n",
    "\n",
    "    def find_nearest_neighbors(self, query_embedding, k=10):\n",
    "        \"\"\"Returns indices of k nearest neighbors\"\"\"\n",
    "        # Denote q as query_emebdding vector, V as item_embeddings matrix.\n",
    "        dot_products = query_embedding.dot(self.item_embeddings.T)\n",
    "        if self.measure in (\"dot\", \"cosine\"):\n",
    "            scores = dot_products\n",
    "        elif self.measure == \"l2\":\n",
    "            # ignore squared_query_embedding since it's the same for all item_embeddings\n",
    "            scores = -(self.squared_item_embedding - 2 * dot_products)\n",
    "\n",
    "        return (-scores).argsort()[:k]\n",
    "\n",
    "\n",
    "def test_nearest_neighbors():\n",
    "    query = np.array([1, 2])\n",
    "    items = np.array(\n",
    "        [\n",
    "            [1, 2.2],  # neareast in l2\n",
    "            [10, 21],  # neareast in dot product similarity\n",
    "            [2, 4],  # nearest in cosine similarity\n",
    "        ]\n",
    "    )\n",
    "\n",
    "    assert NearestNeighbor(items, \"l2\").find_nearest_neighbors(query, 1)[0] == 0\n",
    "    assert NearestNeighbor(items, \"dot\").find_nearest_neighbors(query, 1)[0] == 1\n",
    "    assert NearestNeighbor(items, \"cosine\").find_nearest_neighbors(query, 1)[0] == 2\n",
    "    print(\"All tests passed\")\n",
    "\n",
    "\n",
    "test_nearest_neighbors()"
   ]
  }
 ],
 "metadata": {
  "jupytext": {
   "text_representation": {
    "extension": ".md",
    "format_name": "myst",
    "format_version": 0.12,
    "jupytext_version": "1.8.2"
   }
  },
  "kernelspec": {
   "display_name": "Python 3",
   "language": "python",
   "name": "python3"
  },
  "language_info": {
   "codemirror_mode": {
    "name": "ipython",
    "version": 3
   },
   "file_extension": ".py",
   "mimetype": "text/x-python",
   "name": "python",
   "nbconvert_exporter": "python",
   "pygments_lexer": "ipython3",
   "version": "3.8.5"
  },
  "source_map": [
   12,
   30,
   39,
   43,
   52,
   58,
   73,
   159,
   214
  ]
 },
 "nbformat": 4,
 "nbformat_minor": 5
}