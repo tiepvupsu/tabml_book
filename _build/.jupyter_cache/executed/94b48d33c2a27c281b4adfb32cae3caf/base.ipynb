{
 "cells": [
  {
   "cell_type": "code",
   "execution_count": 1,
   "id": "1f5ae1e5",
   "metadata": {},
   "outputs": [],
   "source": [
    "from pathlib import Path\n",
    "\n",
    "import pandas as pd\n",
    "from sklearn.compose import ColumnTransformer\n",
    "from sklearn.ensemble import RandomForestClassifier\n",
    "from sklearn.impute import KNNImputer, SimpleImputer\n",
    "from sklearn.metrics import accuracy_score\n",
    "from sklearn.model_selection import train_test_split\n",
    "from sklearn.pipeline import Pipeline\n",
    "from sklearn.preprocessing import OneHotEncoder, RobustScaler"
   ]
  },
  {
   "cell_type": "code",
   "execution_count": 2,
   "id": "39495361",
   "metadata": {},
   "outputs": [],
   "source": [
    "titanic_path = (\n",
    "    \"https://media.githubusercontent.com/media/tiepvupsu/tabml_data/master/titanic/\"\n",
    ")\n",
    "df_train_full = pd.read_csv(titanic_path + \"train.csv\")\n",
    "df_test = pd.read_csv(titanic_path + \"test.csv\")"
   ]
  },
  {
   "cell_type": "code",
   "execution_count": 3,
   "id": "634803f3",
   "metadata": {},
   "outputs": [],
   "source": [
    "df_train_full.drop(columns=[\"Cabin\"])\n",
    "df_test.drop(columns=[\"Cabin\"]);"
   ]
  },
  {
   "cell_type": "code",
   "execution_count": 4,
   "id": "678aca8a",
   "metadata": {},
   "outputs": [],
   "source": [
    "df_train, df_val = train_test_split(df_train_full, test_size=0.1)\n",
    "X_train = df_train.copy()\n",
    "y_train = X_train.pop(\"Survived\")\n",
    "\n",
    "X_val = df_val.copy()\n",
    "y_val = X_val.pop(\"Survived\")"
   ]
  },
  {
   "cell_type": "code",
   "execution_count": 5,
   "id": "27f79467",
   "metadata": {},
   "outputs": [],
   "source": [
    "cat_cols = [\"Embarked\", \"Sex\", \"Pclass\"]\n",
    "cat_transformer = Pipeline(\n",
    "    steps=[\n",
    "        (\"imputer\", SimpleImputer(strategy=\"most_frequent\")),\n",
    "        (\"onehot\", OneHotEncoder(handle_unknown=\"ignore\", sparse=False)),\n",
    "    ]\n",
    ")"
   ]
  },
  {
   "cell_type": "code",
   "execution_count": 6,
   "id": "9e9878a6",
   "metadata": {},
   "outputs": [],
   "source": [
    "num_cols = [\"Age\", \"Fare\"]\n",
    "num_transformer = Pipeline(\n",
    "    steps=[(\"imputer\", KNNImputer(n_neighbors=5)), (\"scaler\", RobustScaler())]\n",
    ")"
   ]
  },
  {
   "cell_type": "code",
   "execution_count": 7,
   "id": "9a290f85",
   "metadata": {},
   "outputs": [],
   "source": [
    "preprocessor = ColumnTransformer(\n",
    "    transformers=[\n",
    "        (\"num\", num_transformer, num_cols),\n",
    "        (\"cat\", cat_transformer, cat_cols),\n",
    "    ]\n",
    ")"
   ]
  },
  {
   "cell_type": "code",
   "execution_count": 8,
   "id": "7180bdc9",
   "metadata": {},
   "outputs": [
    {
     "name": "stdout",
     "output_type": "stream",
     "text": [
      "Accuracy score on train data: 0.98\n",
      "Accuracy score on validation data: 0.83\n"
     ]
    }
   ],
   "source": [
    "# Full training pipeline\n",
    "full_pp = Pipeline(\n",
    "    steps=[(\"preprocessor\", preprocessor), (\"classifier\", RandomForestClassifier())]\n",
    ")\n",
    "\n",
    "# training\n",
    "full_pp.fit(X_train, y_train)\n",
    "\n",
    "# training metric\n",
    "y_train_pred = full_pp.predict(X_train)\n",
    "print(\n",
    "    f\"Accuracy score on train data: {accuracy_score(list(y_train), list(y_train_pred)):.2f}\"\n",
    ")\n",
    "\n",
    "# validation metric\n",
    "y_pred = full_pp.predict(X_val)\n",
    "print(\n",
    "    f\"Accuracy score on validation data: {accuracy_score(list(y_val), list(y_pred)):.2f}\"\n",
    ")"
   ]
  },
  {
   "cell_type": "code",
   "execution_count": 9,
   "id": "10a75273",
   "metadata": {},
   "outputs": [],
   "source": [
    "# make submission\n",
    "preds = full_pp.predict(df_test)\n",
    "sample_submission = pd.read_csv(titanic_path + \"gender_submission.csv\")\n",
    "sample_submission[\"Survived\"] = preds\n",
    "sample_submission.to_csv(\"titanic_submission.csv\", index=False)"
   ]
  },
  {
   "cell_type": "code",
   "execution_count": 10,
   "id": "390e013d",
   "metadata": {},
   "outputs": [],
   "source": [
    "%%capture\n",
    "!kaggle competitions submit -c titanic -f titanic_submission.csv -m \"simple submission\""
   ]
  },
  {
   "cell_type": "code",
   "execution_count": 11,
   "id": "706c515c",
   "metadata": {
    "tags": [
     "hide-input"
    ]
   },
   "outputs": [],
   "source": [
    "!rm titanic_submission.csv"
   ]
  }
 ],
 "metadata": {
  "jupytext": {
   "text_representation": {
    "extension": ".md",
    "format_name": "myst",
    "format_version": 0.13,
    "jupytext_version": "1.10.3"
   }
  },
  "kernelspec": {
   "display_name": "Python 3",
   "language": "python",
   "name": "python3"
  },
  "language_info": {
   "codemirror_mode": {
    "name": "ipython",
    "version": 3
   },
   "file_extension": ".py",
   "mimetype": "text/x-python",
   "name": "python",
   "nbconvert_exporter": "python",
   "pygments_lexer": "ipython3",
   "version": "3.8.5"
  },
  "source_map": [
   12,
   23,
   34,
   38,
   44,
   48,
   51,
   55,
   62,
   66,
   74,
   78,
   83,
   87,
   94,
   98,
   118,
   122,
   128,
   132,
   135,
   139
  ]
 },
 "nbformat": 4,
 "nbformat_minor": 5
}