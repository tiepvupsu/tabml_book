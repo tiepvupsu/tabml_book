{
 "cells": [
  {
   "cell_type": "markdown",
   "id": "40220de4",
   "metadata": {},
   "source": [
    "# Minh họa dữ liệu\n",
    "\n",
    "Khi làm việc với dữ liệu dạng bảng, bạn cần đào sâu vào dữ liệu để tìm kiếm những điều ẩn giấu. Để có thể hiểu được những đặc điểm của dữ liệu, phương pháp hiệu quả nhất là minh họa chúng dưới dạng đồ thị. Phần phụ lục này sẽ giới thiệu các loại đồ thị thường được sử dụng khi làm việc với dữ liệu dạng bảng.\n",
    "\n",
    "Chúng ta sẽ sử dụng bộ dữ liệu California Housing để minh họa."
   ]
  },
  {
   "cell_type": "code",
   "execution_count": 1,
   "id": "636ce3c2",
   "metadata": {},
   "outputs": [
    {
     "data": {
      "text/html": [
       "<div>\n",
       "<style scoped>\n",
       "    .dataframe tbody tr th:only-of-type {\n",
       "        vertical-align: middle;\n",
       "    }\n",
       "\n",
       "    .dataframe tbody tr th {\n",
       "        vertical-align: top;\n",
       "    }\n",
       "\n",
       "    .dataframe thead th {\n",
       "        text-align: right;\n",
       "    }\n",
       "</style>\n",
       "<table border=\"1\" class=\"dataframe\">\n",
       "  <thead>\n",
       "    <tr style=\"text-align: right;\">\n",
       "      <th></th>\n",
       "      <th>longitude</th>\n",
       "      <th>latitude</th>\n",
       "      <th>housing_median_age</th>\n",
       "      <th>total_rooms</th>\n",
       "      <th>total_bedrooms</th>\n",
       "      <th>population</th>\n",
       "      <th>households</th>\n",
       "      <th>median_income</th>\n",
       "      <th>median_house_value</th>\n",
       "      <th>ocean_proximity</th>\n",
       "    </tr>\n",
       "  </thead>\n",
       "  <tbody>\n",
       "    <tr>\n",
       "      <th>0</th>\n",
       "      <td>-122.23</td>\n",
       "      <td>37.88</td>\n",
       "      <td>41.0</td>\n",
       "      <td>880.0</td>\n",
       "      <td>129.0</td>\n",
       "      <td>322.0</td>\n",
       "      <td>126.0</td>\n",
       "      <td>8.3252</td>\n",
       "      <td>452600.0</td>\n",
       "      <td>NEAR BAY</td>\n",
       "    </tr>\n",
       "    <tr>\n",
       "      <th>1</th>\n",
       "      <td>-122.22</td>\n",
       "      <td>37.86</td>\n",
       "      <td>21.0</td>\n",
       "      <td>7099.0</td>\n",
       "      <td>1106.0</td>\n",
       "      <td>2401.0</td>\n",
       "      <td>1138.0</td>\n",
       "      <td>8.3014</td>\n",
       "      <td>358500.0</td>\n",
       "      <td>NEAR BAY</td>\n",
       "    </tr>\n",
       "    <tr>\n",
       "      <th>2</th>\n",
       "      <td>-122.24</td>\n",
       "      <td>37.85</td>\n",
       "      <td>52.0</td>\n",
       "      <td>1467.0</td>\n",
       "      <td>190.0</td>\n",
       "      <td>496.0</td>\n",
       "      <td>177.0</td>\n",
       "      <td>7.2574</td>\n",
       "      <td>352100.0</td>\n",
       "      <td>NEAR BAY</td>\n",
       "    </tr>\n",
       "    <tr>\n",
       "      <th>3</th>\n",
       "      <td>-122.25</td>\n",
       "      <td>37.85</td>\n",
       "      <td>52.0</td>\n",
       "      <td>1274.0</td>\n",
       "      <td>235.0</td>\n",
       "      <td>558.0</td>\n",
       "      <td>219.0</td>\n",
       "      <td>5.6431</td>\n",
       "      <td>341300.0</td>\n",
       "      <td>NEAR BAY</td>\n",
       "    </tr>\n",
       "    <tr>\n",
       "      <th>4</th>\n",
       "      <td>-122.25</td>\n",
       "      <td>37.85</td>\n",
       "      <td>52.0</td>\n",
       "      <td>1627.0</td>\n",
       "      <td>280.0</td>\n",
       "      <td>565.0</td>\n",
       "      <td>259.0</td>\n",
       "      <td>3.8462</td>\n",
       "      <td>342200.0</td>\n",
       "      <td>NEAR BAY</td>\n",
       "    </tr>\n",
       "  </tbody>\n",
       "</table>\n",
       "</div>"
      ],
      "text/plain": [
       "   longitude  latitude  housing_median_age  total_rooms  total_bedrooms  \\\n",
       "0    -122.23     37.88                41.0        880.0           129.0   \n",
       "1    -122.22     37.86                21.0       7099.0          1106.0   \n",
       "2    -122.24     37.85                52.0       1467.0           190.0   \n",
       "3    -122.25     37.85                52.0       1274.0           235.0   \n",
       "4    -122.25     37.85                52.0       1627.0           280.0   \n",
       "\n",
       "   population  households  median_income  median_house_value ocean_proximity  \n",
       "0       322.0       126.0         8.3252            452600.0        NEAR BAY  \n",
       "1      2401.0      1138.0         8.3014            358500.0        NEAR BAY  \n",
       "2       496.0       177.0         7.2574            352100.0        NEAR BAY  \n",
       "3       558.0       219.0         5.6431            341300.0        NEAR BAY  \n",
       "4       565.0       259.0         3.8462            342200.0        NEAR BAY  "
      ]
     },
     "execution_count": 1,
     "metadata": {},
     "output_type": "execute_result"
    }
   ],
   "source": [
    "from matplotlib import pyplot as plt\n",
    "import pandas as pd\n",
    "housing_path = \"https://media.githubusercontent.com/media/tiepvupsu/tabml_data/master/california_housing/\"\n",
    "df = pd.read_csv(housing_path + \"housing.csv\")\n",
    "df.head()"
   ]
  },
  {
   "cell_type": "markdown",
   "id": "519216fa",
   "metadata": {},
   "source": [
    "## Histogram\n",
    "\n",
    "Histogram là biểu đồ được sử dụng thường xuyên nhất. Biểu đồ này giúp chúng ta có cái nhìn bao quát về phân bố dữ liệu. Biểu đồ này được vẽ sử dụng phương thức [`.hist()`](https://pandas.pydata.org/docs/reference/api/pandas.DataFrame.hist.html). Biểu đồ này thể hiện số lượng điểm dữ liệu có giá trị theo cột nào đó rơi vào từng khoảng.\n",
    "\n",
    "Ví dụ, để vẽ histogram của cột `total_rooms`, ta có thể làm như sau:"
   ]
  },
  {
   "cell_type": "code",
   "execution_count": 2,
   "id": "2e715d8f",
   "metadata": {},
   "outputs": [
    {
     "data": {
      "image/png": "[encoded data removed]",
      "text/plain": [
       "<Figure size 432x288 with 1 Axes>"
      ]
     },
     "metadata": {
      "filenames": {
       "image/png": "/home/tiepvu/w/tabml_book/book/_build/jupyter_execute/ap/visualization_3_0.png"
      },
      "needs_background": "light"
     },
     "output_type": "display_data"
    }
   ],
   "source": [
    "df[\"total_rooms\"].hist();"
   ]
  },
  {
   "cell_type": "markdown",
   "id": "49e4d0bd",
   "metadata": {},
   "source": [
    "Mặc định, dải giá trị của dữ liệu được chia làm 10 khoảng đều nhau. Chúng ta có thể chia thành nhiều khoảng hơn để có cái nhìn chính xác hơn. Việc này có thể được thực hiện bằng cách khai báo giá trị cho `bins`:"
   ]
  },
  {
   "cell_type": "code",
   "execution_count": 3,
   "id": "9edb74c6",
   "metadata": {},
   "outputs": [
    {
     "data": {
      "text/plain": [
       "<AxesSubplot:>"
      ]
     },
     "execution_count": 3,
     "metadata": {},
     "output_type": "execute_result"
    },
    {
     "data": {
      "image/png": "[encoded data removed]",
      "text/plain": [
       "<Figure size 432x288 with 1 Axes>"
      ]
     },
     "metadata": {
      "filenames": {
       "image/png": "/home/tiepvu/w/tabml_book/book/_build/jupyter_execute/ap/visualization_5_1.png"
      },
      "needs_background": "light"
     },
     "output_type": "display_data"
    }
   ],
   "source": [
    "df[\"total_rooms\"].hist(bins=50)"
   ]
  },
  {
   "cell_type": "markdown",
   "id": "31e612e3",
   "metadata": {},
   "source": [
    "Phương thức `.hist()` cũng có thể được sử dụng để vẽ histogram cho nhiều cột một lúc như dưới đây."
   ]
  },
  {
   "cell_type": "code",
   "execution_count": 4,
   "id": "4e6d11bd",
   "metadata": {},
   "outputs": [
    {
     "name": "stderr",
     "output_type": "stream",
     "text": [
      "/home/tiepvu/w/tabml_book/tabml_book_env/lib/python3.8/site-packages/pandas/plotting/_matplotlib/tools.py:331: MatplotlibDeprecationWarning: \n",
      "The is_first_col function was deprecated in Matplotlib 3.4 and will be removed two minor releases later. Use ax.get_subplotspec().is_first_col() instead.\n",
      "  if ax.is_first_col():\n"
     ]
    },
    {
     "data": {
      "image/png": "[encoded data removed]",
      "text/plain": [
       "<Figure size 1080x720 with 4 Axes>"
      ]
     },
     "metadata": {
      "filenames": {
       "image/png": "/home/tiepvu/w/tabml_book/book/_build/jupyter_execute/ap/visualization_7_1.png"
      },
      "needs_background": "light"
     },
     "output_type": "display_data"
    }
   ],
   "source": [
    "df[[\"total_rooms\", \"housing_median_age\", \"median_house_value\", \"households\"]].hist(\n",
    "    bins=50, figsize=(15, 10)\n",
    ");"
   ]
  },
  {
   "cell_type": "markdown",
   "id": "b549c24a",
   "metadata": {},
   "source": [
    "Với dữ liệu dạng hạng mục, trong ví dụ này là `ocean_proximity`, ta cũng có thể sử dụng `.hist()` để thể hiện số lượng phần tử của từng hạng mục."
   ]
  },
  {
   "cell_type": "code",
   "execution_count": 5,
   "id": "fc3ef6ab",
   "metadata": {},
   "outputs": [
    {
     "data": {
      "image/png": "[encoded data removed]",
      "text/plain": [
       "<Figure size 432x288 with 1 Axes>"
      ]
     },
     "metadata": {
      "filenames": {
       "image/png": "/home/tiepvu/w/tabml_book/book/_build/jupyter_execute/ap/visualization_9_0.png"
      },
      "needs_background": "light"
     },
     "output_type": "display_data"
    }
   ],
   "source": [
    "df[\"ocean_proximity\"].hist();"
   ]
  },
  {
   "cell_type": "markdown",
   "id": "f4aad6e5",
   "metadata": {},
   "source": [
    "Các chức năng khác của phương thức này có thể được tìm thấy tại [website chính thức của pandas]((https://pandas.pydata.org/docs/reference/api/pandas.DataFrame.hist.html)."
   ]
  },
  {
   "cell_type": "markdown",
   "id": "5b7635f1",
   "metadata": {},
   "source": [
    "(sec_boxplot)=\n",
    "## Box plot\n",
    "\n",
    "Box plot thường được sử dụng để kiểm chứng xem dữ liệu có lệch không và hiển thị các điểm dữ liệu ngoại lệ. Xin bắt đầu mục này bằng hình dưới đây.\n",
    "\n",
    "![](https://miro.medium.com/max/770/1*2c21SkzJMf3frPXPAR_gZA.png)\n",
    "\n",
    "(Nguồn [Understanding Boxplots](https://towardsdatascience.com/understanding-boxplots-5e2df7bcbd51))"
   ]
  },
  {
   "cell_type": "markdown",
   "id": "9a452a67",
   "metadata": {},
   "source": [
    "Box plot là một biểu đố khác thường được dùng để biểu diễn phân bố dữ liệu và các điểm ngoại lệ. Trong hình vẽ trên, các điểm được định nghĩa như sau:\n",
    "\n",
    "* Trung vị (_Median_, đường màu vàng) là điểm phân chia các giá trị thành hai nửa, mỗi nửa có số lượng điểm bằng nhau.\n",
    "\n",
    "* Tứ phân vị thứ nhất (Q1) là trung vị của nửa bên trái trung vị. Nói cách khác, có đúng 25% số điểm dữ liệu nhỏ hơn Q1.\n",
    "\n",
    "* Tứ phân vị thứ ba (Q3) là trung vị của nửa bên phải trung vị. Nói cách khác, có đúng 25% số điểm dữ liệu lớn hơn Q3.\n",
    "\n",
    "* IQR là khoảng cách từ Q1 đến Q3. Khoảng này chứa đúng một nửa số điểm dữ liệu.\n",
    "\n",
    "* Điểm cực tiểu (_Minimum_) được định nghĩa là `Q1 - 1.5*IQR` là điểm nằm về phía trái của Q1 một khoảng gấp rưỡi IQR. Chú ý: điểm này không phải là giá trị nhỏ nhất của trường dữ liệu đang xét.\n",
    "\n",
    "* Điểm cực đại (_Maximum_) được định nghĩa tương tự, bằng `Q3 + 1.5*IQR` là điểm nằm về phía phải của Q3 một khoảng gấp rưỡi IQR. Điểm này cũng không phải là giá trị lớn nhất của trường dữ liệu đang xét.\n",
    "\n",
    "* Các điểm màu xanh nằm ngoài đoạn [cực tiểu, cực đại] được coi là các điểm ngoại lệ (_outliers_).\n",
    "\n",
    "Khi sử dụng Box plot, một giả thiết được đặt ra là các điểm dữ liệu thông thường nên nằm trong khoảng [cực tiểu, cực đại]. Những điểm nằm ngoài khoảng này được coi là ở vị trí quá xa so với phần còn lại của dữ liệu.\n",
    "\n",
    "Để hiểu tại sao lại lấy khoảng `1.5*IQR`, hãy xem so sánh giữa boxplot và phân phối chuẩn như hình dưới đây\n",
    "\n",
    "\n",
    "![](https://miro.medium.com/max/770/1*NRlqiZGQdsIyAu0KzP7LaQ.png)\n",
    "\n",
    "\n",
    "(Nguồn [Understanding Boxplots](https://towardsdatascience.com/understanding-boxplots-5e2df7bcbd51))"
   ]
  },
  {
   "cell_type": "markdown",
   "id": "4297f783",
   "metadata": {},
   "source": [
    "Nếu các điểm dữ liệu tuân theo phân phối chuẩn, trung vị chính là trung bình. 50% số điểm cũng nằm rất gần với trung bình và chỉ có 0.7% số điểm nằm ngoài khoảng [cực tiểu, cực đại]. Các điểm cực đại, cực tiểu này cũng gần với vị trí $3\\sigma$. Quy tắc $3\\simga$ nói rằng 99.7% các điểm trong phân phối chuẩn nằm trong khoảng $\\pm 3 \\sigma$ của điểm trung bình. Có thể nói, boxplot là ước lượng gần đúng của quy tắc $3 \\sigma$ được khái quát lên với dữ liệu tuân theo phân phối bất kỳ.\n",
    "\n",
    "\n",
    "Các giá trị cực tiểu và cực đại thường được dùng để làm điểm cắt của dữ liệu. Tức là những điểm nhỏ hơn cực tiểu sẽ bị cắt về cực tiểu, những điểm lớn hơn cực đại sẽ được cắt về cực đại. Xem thêm {ref}`sec_numeric_outliers`.\n",
    "\n",
    "Đoạn code dưới đây thể hiện cách minh họa box plot cho cột `housing_median_age`. Mặc định, box plot được vẽ ở dạng thẳng đứng."
   ]
  },
  {
   "cell_type": "code",
   "execution_count": 6,
   "id": "ac7a4be9",
   "metadata": {},
   "outputs": [
    {
     "data": {
      "image/png": "[encoded data removed]",
      "text/plain": [
       "<Figure size 432x432 with 1 Axes>"
      ]
     },
     "metadata": {
      "filenames": {
       "image/png": "/home/tiepvu/w/tabml_book/book/_build/jupyter_execute/ap/visualization_14_0.png"
      },
      "needs_background": "light"
     },
     "output_type": "display_data"
    }
   ],
   "source": [
    "points = df[[\"housing_median_age\"]].boxplot(figsize=(6,6), fontsize=18)"
   ]
  },
  {
   "cell_type": "markdown",
   "id": "aad3f8ff",
   "metadata": {},
   "source": [
    "Trong hình này:\n",
    "\n",
    "* Đoạn thẳng màu xanh lục ở gần 30 là trung vị.\n",
    "\n",
    "* Cạnh dưới của _box_ là Q1, cạnh trên là Q3.\n",
    "\n",
    "* Các điểm cực đại và cực tiểu không được minh họa trên hình. Điểm thấp nhất gần 0 là _điểm dữ liệu có giá trị nhỏ nhất_ lớn hơn điểm cực tiểu. Lưu ý rằng điểm cực tiểu trong box plot không nhất thiết phải là một điểm dữ liệu. Tương tự, điểm cao nhất ở mức trên 50 là giá trị cao nhất của dữ liệu.\n",
    "\n",
    "* Với cột `housing_median_age` này, dữ liệu tương đối tập trung nên không có điểm ngoại lệ.\n",
    "\n",
    "Xét sang cột `median_house_value`:"
   ]
  },
  {
   "cell_type": "code",
   "execution_count": 7,
   "id": "e4199993",
   "metadata": {},
   "outputs": [
    {
     "data": {
      "image/png": "[encoded data removed]",
      "text/plain": [
       "<Figure size 432x432 with 1 Axes>"
      ]
     },
     "metadata": {
      "filenames": {
       "image/png": "/home/tiepvu/w/tabml_book/book/_build/jupyter_execute/ap/visualization_16_0.png"
      },
      "needs_background": "light"
     },
     "output_type": "display_data"
    }
   ],
   "source": [
    "points = df[[\"median_house_value\"]].boxplot(figsize=(6,6), fontsize=18)"
   ]
  },
  {
   "cell_type": "markdown",
   "id": "4b62f074",
   "metadata": {},
   "source": [
    "Ở box plot này, ta thấy rằng có một vài điểm đen nằm trên mốc cực đại gần 500000. Một điểm nữa có thể nhận thấy rằng phần lớn các điểm dữ liệu (75%) có giá trị thấp hơn khoảng 270000. Box plot cũng giúp ta thấy dữ liệu bị lệch về phía nào.\n",
    "\n",
    "Box plot dưới đây cho `total_rooms` cho ta thấy rằng có khá nhiều điểm ngoại lệ."
   ]
  },
  {
   "cell_type": "code",
   "execution_count": 8,
   "id": "b2faa6d8",
   "metadata": {},
   "outputs": [
    {
     "data": {
      "text/plain": [
       "<AxesSubplot:>"
      ]
     },
     "execution_count": 8,
     "metadata": {},
     "output_type": "execute_result"
    },
    {
     "data": {
      "image/png": "[encoded data removed]",
      "text/plain": [
       "<Figure size 432x432 with 1 Axes>"
      ]
     },
     "metadata": {
      "filenames": {
       "image/png": "/home/tiepvu/w/tabml_book/book/_build/jupyter_execute/ap/visualization_18_1.png"
      },
      "needs_background": "light"
     },
     "output_type": "display_data"
    }
   ],
   "source": [
    "df[[\"total_rooms\"]].boxplot(figsize=(6,6), fontsize=18)"
   ]
  },
  {
   "cell_type": "code",
   "execution_count": null,
   "id": "b522a8f3",
   "metadata": {},
   "outputs": [],
   "source": []
  }
 ],
 "metadata": {
  "jupytext": {
   "text_representation": {
    "extension": ".md",
    "format_name": "myst",
    "format_version": 0.12,
    "jupytext_version": "1.8.2"
   }
  },
  "kernelspec": {
   "display_name": "tabml_book_env",
   "language": "python",
   "name": "tabml_book_env"
  },
  "language_info": {
   "codemirror_mode": {
    "name": "ipython",
    "version": 3
   },
   "file_extension": ".py",
   "mimetype": "text/x-python",
   "name": "python",
   "nbconvert_exporter": "python",
   "pygments_lexer": "ipython3",
   "version": "3.8.5"
  },
  "source_map": [
   12,
   20,
   26,
   34,
   36,
   40,
   42,
   46,
   50,
   54,
   56,
   60,
   71,
   99,
   108,
   110,
   124,
   126,
   132,
   136
  ]
 },
 "nbformat": 4,
 "nbformat_minor": 5
}