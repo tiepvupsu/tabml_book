{
 "cells": [
  {
   "cell_type": "markdown",
   "id": "cfa64ac0",
   "metadata": {},
   "source": [
    "# Bộ dữ liệu Movielens 1M\n",
    "\n",
    "## Giới thiệu\n",
    "\n",
    "[Movielens](https://grouplens.org/datasets/movielens/) là một nhóm cung cấp các bộ dữ liệu cho các bài toán xây dựng Hệ thống gợi ý. Các bộ dữ liệu trong tập này bao gồm thông tin đánh giá xếp hạng của người dùng tới các bộ phim. Những thông tin về người dùng hay các bộ phim cũng được cung cấp.\n",
    "\n",
    "Trong cuốn sách này, chúng ta sẽ sử dụng bộ dữ liệu [Movielens 1M](https://grouplens.org/datasets/movielens/1m/). Bộ dữ liệu này bao gồm xâp xỉ 1 triệu bộ `(user, movie, rating)` từ khoảng 3900 bộ phim và  6040 người dùng.\n",
    "\n",
    "Trong các phần tiếp theo, khoảng 90% của số đánh giá sẽ được tách ra làm dữ liệu huấn luyện, 10% còn lại được dùng làm dữ liệu đánh giá.\n",
    "\n",
    "## Download bộ dữ liệu\n",
    "Bộ dữ liệu này có thể được download trực tiếp từ trang chủ [Movielens 1M](https://grouplens.org/datasets/movielens/1m/) hoặc sử dụng `tabml.datasets`:"
   ]
  },
  {
   "cell_type": "code",
   "execution_count": 1,
   "id": "ba8e729b",
   "metadata": {},
   "outputs": [
    {
     "data": {
      "text/plain": [
       "dict_keys(['users', 'movies', 'ratings'])"
      ]
     },
     "execution_count": 1,
     "metadata": {},
     "output_type": "execute_result"
    }
   ],
   "source": [
    "import tabml.datasets\n",
    "df_dict = tabml.datasets.download_as_dataframes(\"movielen-1m\")\n",
    "df_dict.keys()"
   ]
  },
  {
   "cell_type": "markdown",
   "id": "6365ad39",
   "metadata": {},
   "source": [
    "Có ba dataframe trong bộ dữ liệu này là `users, movies` và `ratings` lần lượt chứa thông tin của người dùng, bộ phim và các đánh giá.\n",
    "\n",
    "\n",
    "## Khám phá dữ liệu\n",
    "\n",
    "### Rating\n",
    "\n",
    "Dưới đây là 10 dòng đầu tiên của dataframe rating. Dữ liệu rating bao gồm thông tin về mã người dùng `UserID`, mã phim `MovieID`, đánh giá trong thang điểm 5 và thời điểm đánh giá `Timestamp`."
   ]
  },
  {
   "cell_type": "code",
   "execution_count": 2,
   "id": "33638d04",
   "metadata": {},
   "outputs": [
    {
     "data": {
      "text/html": [
       "<div>\n",
       "<style scoped>\n",
       "    .dataframe tbody tr th:only-of-type {\n",
       "        vertical-align: middle;\n",
       "    }\n",
       "\n",
       "    .dataframe tbody tr th {\n",
       "        vertical-align: top;\n",
       "    }\n",
       "\n",
       "    .dataframe thead th {\n",
       "        text-align: right;\n",
       "    }\n",
       "</style>\n",
       "<table border=\"1\" class=\"dataframe\">\n",
       "  <thead>\n",
       "    <tr style=\"text-align: right;\">\n",
       "      <th></th>\n",
       "      <th>UserID</th>\n",
       "      <th>MovieID</th>\n",
       "      <th>Rating</th>\n",
       "      <th>Timestamp</th>\n",
       "    </tr>\n",
       "  </thead>\n",
       "  <tbody>\n",
       "    <tr>\n",
       "      <th>0</th>\n",
       "      <td>1</td>\n",
       "      <td>1193</td>\n",
       "      <td>5</td>\n",
       "      <td>978300760</td>\n",
       "    </tr>\n",
       "    <tr>\n",
       "      <th>1</th>\n",
       "      <td>1</td>\n",
       "      <td>661</td>\n",
       "      <td>3</td>\n",
       "      <td>978302109</td>\n",
       "    </tr>\n",
       "    <tr>\n",
       "      <th>2</th>\n",
       "      <td>1</td>\n",
       "      <td>914</td>\n",
       "      <td>3</td>\n",
       "      <td>978301968</td>\n",
       "    </tr>\n",
       "    <tr>\n",
       "      <th>3</th>\n",
       "      <td>1</td>\n",
       "      <td>3408</td>\n",
       "      <td>4</td>\n",
       "      <td>978300275</td>\n",
       "    </tr>\n",
       "    <tr>\n",
       "      <th>4</th>\n",
       "      <td>1</td>\n",
       "      <td>2355</td>\n",
       "      <td>5</td>\n",
       "      <td>978824291</td>\n",
       "    </tr>\n",
       "    <tr>\n",
       "      <th>5</th>\n",
       "      <td>1</td>\n",
       "      <td>1197</td>\n",
       "      <td>3</td>\n",
       "      <td>978302268</td>\n",
       "    </tr>\n",
       "    <tr>\n",
       "      <th>6</th>\n",
       "      <td>1</td>\n",
       "      <td>1287</td>\n",
       "      <td>5</td>\n",
       "      <td>978302039</td>\n",
       "    </tr>\n",
       "    <tr>\n",
       "      <th>7</th>\n",
       "      <td>1</td>\n",
       "      <td>2804</td>\n",
       "      <td>5</td>\n",
       "      <td>978300719</td>\n",
       "    </tr>\n",
       "    <tr>\n",
       "      <th>8</th>\n",
       "      <td>1</td>\n",
       "      <td>594</td>\n",
       "      <td>4</td>\n",
       "      <td>978302268</td>\n",
       "    </tr>\n",
       "    <tr>\n",
       "      <th>9</th>\n",
       "      <td>1</td>\n",
       "      <td>919</td>\n",
       "      <td>4</td>\n",
       "      <td>978301368</td>\n",
       "    </tr>\n",
       "  </tbody>\n",
       "</table>\n",
       "</div>"
      ],
      "text/plain": [
       "   UserID  MovieID  Rating  Timestamp\n",
       "0       1     1193       5  978300760\n",
       "1       1      661       3  978302109\n",
       "2       1      914       3  978301968\n",
       "3       1     3408       4  978300275\n",
       "4       1     2355       5  978824291\n",
       "5       1     1197       3  978302268\n",
       "6       1     1287       5  978302039\n",
       "7       1     2804       5  978300719\n",
       "8       1      594       4  978302268\n",
       "9       1      919       4  978301368"
      ]
     },
     "execution_count": 2,
     "metadata": {},
     "output_type": "execute_result"
    }
   ],
   "source": [
    "ratings = df_dict[\"ratings\"]\n",
    "ratings.head(10)"
   ]
  },
  {
   "cell_type": "markdown",
   "id": "57a08966",
   "metadata": {},
   "source": [
    "Phân phối của các điểm đánh giá cho trong biểu đồ dưới đây cho chúng ta thấy rằng điểm 4 được đánh giá nhiều nhất trong khi các điểm 1 và 2 có ít lượng đánh giá nhất. Điều này có thể được giải thích bằng sự thật là người dùng thường đánh giá khi họ rất thích một bộ phim; khi họ không thực sự thích, họ sẽ ít ra đánh giá hơn."
   ]
  },
  {
   "cell_type": "code",
   "execution_count": 3,
   "id": "3fc8b9b0",
   "metadata": {},
   "outputs": [
    {
     "data": {
      "text/plain": [
       "<AxesSubplot:ylabel='Frequency'>"
      ]
     },
     "execution_count": 3,
     "metadata": {},
     "output_type": "execute_result"
    },
    {
     "data": {
      "image/png": "[encoded data removed]",
      "text/plain": [
       "<Figure size 432x288 with 1 Axes>"
      ]
     },
     "metadata": {
      "filenames": {
       "image/png": "/home/tiepvu/w/tabml_book/book/_build/jupyter_execute/ch_recommendation_system/ml_1m_5_1.png"
      },
      "needs_background": "light"
     },
     "output_type": "display_data"
    }
   ],
   "source": [
    "ratings[\"Rating\"].plot.hist()"
   ]
  },
  {
   "cell_type": "markdown",
   "id": "bdb0f7a4",
   "metadata": {},
   "source": [
    "Tiếp theo, chúng ta sẽ xem số lượng bộ phim mà mỗi người dùng đánh giá cũng như số lượng đánh giá mà mỗi bộ phim nhận được:"
   ]
  },
  {
   "cell_type": "code",
   "execution_count": 4,
   "id": "8a949dcd",
   "metadata": {},
   "outputs": [
    {
     "data": {
      "text/plain": [
       "4169    2314\n",
       "1680    1850\n",
       "4277    1743\n",
       "1941    1595\n",
       "1181    1521\n",
       "        ... \n",
       "761       20\n",
       "1493      20\n",
       "5533      20\n",
       "2714      20\n",
       "2696      20\n",
       "Name: UserID, Length: 6040, dtype: int64"
      ]
     },
     "execution_count": 4,
     "metadata": {},
     "output_type": "execute_result"
    }
   ],
   "source": [
    "ratings[\"UserID\"].value_counts()"
   ]
  },
  {
   "cell_type": "markdown",
   "id": "96dabb09",
   "metadata": {},
   "source": [
    "Ta thấy rằng người dùng có mã số 4169 đánh giá tới 2314 bộ phim và 20 là số lượng đánh giá ít nhất mà mỗi người dùng đưa ra. Có thể thấy rằng nhóm tác giả của bộ dữ liệu này đã lọc đi các người dùng có ít đánh giá. Sự lý tưởng này khó đạt được trong thực tế vì phần lớn người dùng không đưa ra đánh giá nào. Việc mỗi người dùng đánh giá nhiều bộ phim khiến cho độ chính xác khi gợi ý được cao hơn."
   ]
  },
  {
   "cell_type": "code",
   "execution_count": 5,
   "id": "33b81c0a",
   "metadata": {},
   "outputs": [
    {
     "data": {
      "text/plain": [
       "2858    3428\n",
       "260     2991\n",
       "1196    2990\n",
       "1210    2883\n",
       "480     2672\n",
       "        ... \n",
       "3323       1\n",
       "624        1\n",
       "763        1\n",
       "2484       1\n",
       "133        1\n",
       "Name: MovieID, Length: 3706, dtype: int64"
      ]
     },
     "execution_count": 5,
     "metadata": {},
     "output_type": "execute_result"
    }
   ],
   "source": [
    "ratings[\"MovieID\"].value_counts()"
   ]
  },
  {
   "cell_type": "markdown",
   "id": "6559b41f",
   "metadata": {},
   "source": [
    "Ở khía cạnh bộ phim, bộ phim có mã số 2858 được đánh giá nhiều nhất với 3428 lần trong khi rất nhiều bộ phim chỉ nhận được một đánh giá."
   ]
  },
  {
   "cell_type": "markdown",
   "id": "b90a0d13",
   "metadata": {},
   "source": [
    "### Dữ liệu người dùng"
   ]
  },
  {
   "cell_type": "code",
   "execution_count": 6,
   "id": "86af93cf",
   "metadata": {},
   "outputs": [
    {
     "name": "stdout",
     "output_type": "stream",
     "text": [
      "<class 'pandas.core.frame.DataFrame'>\n",
      "RangeIndex: 6040 entries, 0 to 6039\n",
      "Data columns (total 5 columns):\n",
      " #   Column      Non-Null Count  Dtype \n",
      "---  ------      --------------  ----- \n",
      " 0   UserID      6040 non-null   int64 \n",
      " 1   Gender      6040 non-null   object\n",
      " 2   Age         6040 non-null   int64 \n",
      " 3   Occupation  6040 non-null   int64 \n",
      " 4   Zip-code    6040 non-null   object\n",
      "dtypes: int64(3), object(2)\n",
      "memory usage: 236.1+ KB\n"
     ]
    }
   ],
   "source": [
    "users = df_dict[\"users\"]\n",
    "users.info()"
   ]
  },
  {
   "cell_type": "markdown",
   "id": "64a8a781",
   "metadata": {},
   "source": [
    "Như vậy có 6040 người dùng cùng với đầy đủ các thông tin về giới tính, tuổi, nghề nghiệp và Zip-code. Chúng ta sẽ không sử dụng thông tin về Zip-code vì số lượng các giá trị phân biệt là quá lớn. Chúng ta cùng xem nhanh phân bố của các thông tin về giới tính, tuổi và nghề nghiệp."
   ]
  },
  {
   "cell_type": "code",
   "execution_count": 7,
   "id": "30b1effa",
   "metadata": {},
   "outputs": [
    {
     "data": {
      "text/plain": [
       "M    4331\n",
       "F    1709\n",
       "Name: Gender, dtype: int64"
      ]
     },
     "execution_count": 7,
     "metadata": {},
     "output_type": "execute_result"
    }
   ],
   "source": [
    "users[\"Gender\"].value_counts()"
   ]
  },
  {
   "cell_type": "markdown",
   "id": "649fa242",
   "metadata": {},
   "source": [
    "Có 4331 người dùng là nam và 1709 người dùng là nữ."
   ]
  },
  {
   "cell_type": "code",
   "execution_count": 8,
   "id": "13dee419",
   "metadata": {},
   "outputs": [
    {
     "data": {
      "text/plain": [
       "<AxesSubplot:>"
      ]
     },
     "execution_count": 8,
     "metadata": {},
     "output_type": "execute_result"
    },
    {
     "data": {
      "image/png": "[encoded data removed]",
      "text/plain": [
       "<Figure size 432x288 with 1 Axes>"
      ]
     },
     "metadata": {
      "filenames": {
       "image/png": "/home/tiepvu/w/tabml_book/book/_build/jupyter_execute/ch_recommendation_system/ml_1m_16_1.png"
      },
      "needs_background": "light"
     },
     "output_type": "display_data"
    }
   ],
   "source": [
    "users[\"Age\"].hist()"
   ]
  },
  {
   "cell_type": "markdown",
   "id": "8462d8cb",
   "metadata": {},
   "source": [
    "Phần lớn người dùng có độ tuổi từ 18 đến 34, nhóm dưới 18 tuổi có số người dùng nhỏ nhất.\n",
    "Dữ liệu về nghệ nghiệp đã được mã hóa thành các số từ 0 đến 20:"
   ]
  },
  {
   "cell_type": "code",
   "execution_count": 9,
   "id": "c7d29a35",
   "metadata": {},
   "outputs": [
    {
     "data": {
      "image/png": "[encoded data removed]",
      "text/plain": [
       "<Figure size 1440x720 with 1 Axes>"
      ]
     },
     "metadata": {
      "filenames": {
       "image/png": "/home/tiepvu/w/tabml_book/book/_build/jupyter_execute/ch_recommendation_system/ml_1m_18_0.png"
      },
      "needs_background": "light"
     },
     "output_type": "display_data"
    }
   ],
   "source": [
    "import matplotlib\n",
    "from matplotlib import pyplot as plt\n",
    "\n",
    "\n",
    "occupation_mapping = {\n",
    "    0: \"other or not specified\",\n",
    "    1: \"academic/educator\",\n",
    "    2: \"artist\",\n",
    "    3: \"clerical/admin\",\n",
    "    4: \"college/grad student\",\n",
    "    5: \"customer service\",\n",
    "    6: \"doctor/health care\",\n",
    "    7: \"executive/managerial\",\n",
    "    8: \"farmer\",\n",
    "    9: \"homemaker\",\n",
    "    10: \"K-12 student\",\n",
    "    11: \"lawyer\",\n",
    "    12: \"programmer\",\n",
    "    13: \"retired\",\n",
    "    14: \"sales/marketing\",\n",
    "    15: \"scientist\",\n",
    "    16: \"self-employed\",\n",
    "    17: \"technician/engineer\",\n",
    "    18: \"tradesman/craftsman\",\n",
    "    19: \"unemployed\",\n",
    "    20: \"writer\",\n",
    "}\n",
    "\n",
    "occupation_id_count = users[\"Occupation\"].value_counts().to_dict()\n",
    "occupation_count = {\n",
    "    occupation_mapping[id]: count for id, count in occupation_id_count.items()\n",
    "}\n",
    "\n",
    "\n",
    "matplotlib.rcParams.update({\"font.size\": 14})\n",
    "plt.figure(figsize=(20, 10))\n",
    "plt.bar(x=occupation_count.keys(), height=occupation_count.values())\n",
    "plt.xticks(rotation=90)\n",
    "plt.show()"
   ]
  },
  {
   "cell_type": "markdown",
   "id": "b36631a6",
   "metadata": {},
   "source": [
    "Không có gì bất ngờ, các bạn sinh viên xuất hiện nhiều trong bộ dữ liệu nhất còn các bác nông dân xuất hiện ít nhất."
   ]
  },
  {
   "cell_type": "markdown",
   "id": "2f0add4a",
   "metadata": {},
   "source": [
    "### Dữ liệu bộ phim"
   ]
  },
  {
   "cell_type": "code",
   "execution_count": 10,
   "id": "c6517367",
   "metadata": {},
   "outputs": [
    {
     "name": "stdout",
     "output_type": "stream",
     "text": [
      "<class 'pandas.core.frame.DataFrame'>\n",
      "RangeIndex: 3883 entries, 0 to 3882\n",
      "Data columns (total 3 columns):\n",
      " #   Column   Non-Null Count  Dtype \n",
      "---  ------   --------------  ----- \n",
      " 0   MovieID  3883 non-null   int64 \n",
      " 1   Title    3883 non-null   object\n",
      " 2   Genres   3883 non-null   object\n",
      "dtypes: int64(1), object(2)\n",
      "memory usage: 91.1+ KB\n"
     ]
    }
   ],
   "source": [
    "movies = df_dict[\"movies\"]\n",
    "movies.info()"
   ]
  },
  {
   "cell_type": "markdown",
   "id": "e356078a",
   "metadata": {},
   "source": [
    "Có 3883 bộ phim với đầy đủ thông tin về tiêu đề (`Title`) và các thể loại (`Genres`). Cùng xem một vài dòng đầu của dataframe này:"
   ]
  },
  {
   "cell_type": "code",
   "execution_count": 11,
   "id": "2440f983",
   "metadata": {},
   "outputs": [
    {
     "data": {
      "text/html": [
       "<div>\n",
       "<style scoped>\n",
       "    .dataframe tbody tr th:only-of-type {\n",
       "        vertical-align: middle;\n",
       "    }\n",
       "\n",
       "    .dataframe tbody tr th {\n",
       "        vertical-align: top;\n",
       "    }\n",
       "\n",
       "    .dataframe thead th {\n",
       "        text-align: right;\n",
       "    }\n",
       "</style>\n",
       "<table border=\"1\" class=\"dataframe\">\n",
       "  <thead>\n",
       "    <tr style=\"text-align: right;\">\n",
       "      <th></th>\n",
       "      <th>MovieID</th>\n",
       "      <th>Title</th>\n",
       "      <th>Genres</th>\n",
       "    </tr>\n",
       "  </thead>\n",
       "  <tbody>\n",
       "    <tr>\n",
       "      <th>0</th>\n",
       "      <td>1</td>\n",
       "      <td>Toy Story (1995)</td>\n",
       "      <td>Animation|Children's|Comedy</td>\n",
       "    </tr>\n",
       "    <tr>\n",
       "      <th>1</th>\n",
       "      <td>2</td>\n",
       "      <td>Jumanji (1995)</td>\n",
       "      <td>Adventure|Children's|Fantasy</td>\n",
       "    </tr>\n",
       "    <tr>\n",
       "      <th>2</th>\n",
       "      <td>3</td>\n",
       "      <td>Grumpier Old Men (1995)</td>\n",
       "      <td>Comedy|Romance</td>\n",
       "    </tr>\n",
       "    <tr>\n",
       "      <th>3</th>\n",
       "      <td>4</td>\n",
       "      <td>Waiting to Exhale (1995)</td>\n",
       "      <td>Comedy|Drama</td>\n",
       "    </tr>\n",
       "    <tr>\n",
       "      <th>4</th>\n",
       "      <td>5</td>\n",
       "      <td>Father of the Bride Part II (1995)</td>\n",
       "      <td>Comedy</td>\n",
       "    </tr>\n",
       "    <tr>\n",
       "      <th>5</th>\n",
       "      <td>6</td>\n",
       "      <td>Heat (1995)</td>\n",
       "      <td>Action|Crime|Thriller</td>\n",
       "    </tr>\n",
       "    <tr>\n",
       "      <th>6</th>\n",
       "      <td>7</td>\n",
       "      <td>Sabrina (1995)</td>\n",
       "      <td>Comedy|Romance</td>\n",
       "    </tr>\n",
       "    <tr>\n",
       "      <th>7</th>\n",
       "      <td>8</td>\n",
       "      <td>Tom and Huck (1995)</td>\n",
       "      <td>Adventure|Children's</td>\n",
       "    </tr>\n",
       "    <tr>\n",
       "      <th>8</th>\n",
       "      <td>9</td>\n",
       "      <td>Sudden Death (1995)</td>\n",
       "      <td>Action</td>\n",
       "    </tr>\n",
       "    <tr>\n",
       "      <th>9</th>\n",
       "      <td>10</td>\n",
       "      <td>GoldenEye (1995)</td>\n",
       "      <td>Action|Adventure|Thriller</td>\n",
       "    </tr>\n",
       "  </tbody>\n",
       "</table>\n",
       "</div>"
      ],
      "text/plain": [
       "   MovieID                               Title                        Genres\n",
       "0        1                    Toy Story (1995)   Animation|Children's|Comedy\n",
       "1        2                      Jumanji (1995)  Adventure|Children's|Fantasy\n",
       "2        3             Grumpier Old Men (1995)                Comedy|Romance\n",
       "3        4            Waiting to Exhale (1995)                  Comedy|Drama\n",
       "4        5  Father of the Bride Part II (1995)                        Comedy\n",
       "5        6                         Heat (1995)         Action|Crime|Thriller\n",
       "6        7                      Sabrina (1995)                Comedy|Romance\n",
       "7        8                 Tom and Huck (1995)          Adventure|Children's\n",
       "8        9                 Sudden Death (1995)                        Action\n",
       "9       10                    GoldenEye (1995)     Action|Adventure|Thriller"
      ]
     },
     "execution_count": 11,
     "metadata": {},
     "output_type": "execute_result"
    }
   ],
   "source": [
    "movies.head(10)"
   ]
  },
  {
   "cell_type": "markdown",
   "id": "e76e9d1c",
   "metadata": {},
   "source": [
    "Như vậy, năm sản xuất của bộ phim cũng xuất hiện trong tiêu đề. Thông tin về năm sản xuất cũng hoàn toàn có thể là một đặc trưng tốt cho việc xây dựng mô hình. Ngoài ra, một bộ phim có thể thuộc nhiều thể loại.\n",
    "\n",
    "Tiếp theo, chúng ta cùng trả lời hai câu hỏi:\n",
    "\n",
    "1. Số lượng thể loại mà mỗi bộ phim thuộc về.\n",
    "2. Số lượng bộ phim thuộc mỗi thể loại"
   ]
  },
  {
   "cell_type": "code",
   "execution_count": 12,
   "id": "b0c43794",
   "metadata": {},
   "outputs": [
    {
     "data": {
      "text/plain": [
       "1    2025\n",
       "2    1322\n",
       "3     421\n",
       "4     100\n",
       "5      14\n",
       "6       1\n",
       "Name: num_genres, dtype: int64"
      ]
     },
     "execution_count": 12,
     "metadata": {},
     "output_type": "execute_result"
    }
   ],
   "source": [
    "movies[\"num_genres\"] = movies[\"Genres\"].apply(lambda x: len(x.split('|')))\n",
    "movies[\"num_genres\"].value_counts()"
   ]
  },
  {
   "cell_type": "markdown",
   "id": "00297112",
   "metadata": {},
   "source": [
    "Trả lời cho câu hỏi thứ nhất, hầu hết các bộ phim thuộc vào một thể loại. Số lượng thể loại nhiều nhất mà một bộ phim thuộc về là 6 và chỉ có một bộ phim như vậy."
   ]
  },
  {
   "cell_type": "code",
   "execution_count": 13,
   "id": "d013e03a",
   "metadata": {},
   "outputs": [
    {
     "data": {
      "image/png": "[encoded data removed]",
      "text/plain": [
       "<Figure size 1440x720 with 1 Axes>"
      ]
     },
     "metadata": {
      "filenames": {
       "image/png": "/home/tiepvu/w/tabml_book/book/_build/jupyter_execute/ch_recommendation_system/ml_1m_27_0.png"
      },
      "needs_background": "light"
     },
     "output_type": "display_data"
    }
   ],
   "source": [
    "from collections import defaultdict\n",
    "\n",
    "genres_counter = defaultdict(int)\n",
    "for genre_str in movies[\"Genres\"]:\n",
    "    genres = genre_str.split('|')\n",
    "    for genre in genres:\n",
    "        genres_counter[genre] += 1\n",
    "        \n",
    "plt.figure(figsize=(20, 10))\n",
    "plt.bar(x=genres_counter.keys(), height=genres_counter.values())\n",
    "plt.xticks(rotation=90)\n",
    "plt.show();"
   ]
  },
  {
   "cell_type": "markdown",
   "id": "cce8c598",
   "metadata": {},
   "source": [
    "Trả lời cho câu hỏi thứ hai, ta thấy rằng thể loại `Drama` và `Comedy` có nhiều bộ phim nhất. Các thể loại `Animation, Fantasy, \"Documentary, War, Mystery, Film-Noir` và `Western` có ít bộ phim nhất với khoảng từ 50 đến 100 bộ phim."
   ]
  }
 ],
 "metadata": {
  "jupytext": {
   "text_representation": {
    "extension": ".md",
    "format_name": "myst",
    "format_version": 0.13,
    "jupytext_version": "1.10.3"
   }
  },
  "kernelspec": {
   "display_name": "Python 3",
   "language": "python",
   "name": "python3"
  },
  "language_info": {
   "codemirror_mode": {
    "name": "ipython",
    "version": 3
   },
   "file_extension": ".py",
   "mimetype": "text/x-python",
   "name": "python",
   "nbconvert_exporter": "python",
   "pygments_lexer": "ipython3",
   "version": "3.8.5"
  },
  "source_map": [
   12,
   27,
   31,
   42,
   45,
   49,
   51,
   55,
   57,
   61,
   63,
   67,
   71,
   74,
   78,
   80,
   84,
   86,
   92,
   132,
   136,
   140,
   143,
   147,
   149,
   158,
   161,
   165,
   178
  ]
 },
 "nbformat": 4,
 "nbformat_minor": 5
}