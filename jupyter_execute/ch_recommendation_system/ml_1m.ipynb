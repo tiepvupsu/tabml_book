{
 "cells": [
  {
   "cell_type": "markdown",
   "id": "b1253f95",
   "metadata": {},
   "source": [
    "# Bộ dữ liệu MovieLens-1M\n",
    "\n",
    "## Giới thiệu\n",
    "\n",
    "[Movielens](https://grouplens.org/datasets/movielens/) là một nhóm nghiên cứu cung cấp các bộ dữ liệu cho các bài toán xây dựng hệ thống gợi ý. Các bộ dữ liệu trong tập này bao gồm thông tin đánh giá xếp hạng của người dùng tới các bộ phim. Những thông tin về người dùng hay các bộ phim cũng được cung cấp.\n",
    "\n",
    "Trong phần này này, chúng ta sẽ sử dụng bộ dữ liệu [MovieLens-1M](https://grouplens.org/datasets/movielens/1m/) trong các ví dụ. Bộ dữ liệu này bao gồm xấp xỉ 1 triệu bộ `(user, movie, rating)` từ khoảng 3900 bộ phim và 6040 người dùng.\n",
    "\n",
    "Trong các phần tiếp theo, khoảng 90% của số đánh giá sẽ được tách ra làm dữ liệu huấn luyện, 10% còn lại được dùng làm dữ liệu đánh giá.\n",
    "\n",
    "## Download bộ dữ liệu\n",
    "Bộ dữ liệu này có thể được download trực tiếp từ trang chủ [Movielens 1M](https://grouplens.org/datasets/movielens/1m/) hoặc sử dụng `tabml.datasets`:"
   ]
  },
  {
   "cell_type": "code",
   "execution_count": null,
   "id": "3ff4584a",
   "metadata": {},
   "outputs": [],
   "source": [
    "import tabml.datasets\n",
    "df_dict = tabml.datasets.download_movielen_1m()\n",
    "df_dict.keys()"
   ]
  },
  {
   "cell_type": "markdown",
   "id": "faee0c80",
   "metadata": {},
   "source": [
    "Có ba dataframe trong bộ dữ liệu này là `users, movies` và `ratings` lần lượt chứa thông tin của người dùng, bộ phim và các đánh giá.\n",
    "\n",
    "\n",
    "## Khám phá dữ liệu\n",
    "\n",
    "### Rating\n",
    "\n",
    "Dưới đây là 10 dòng đầu tiên của dataframe rating. Dữ liệu rating bao gồm thông tin về mã người dùng `UserID`, mã phim `MovieID`, đánh giá trong thang điểm 5 và thời điểm đánh giá `Timestamp`."
   ]
  },
  {
   "cell_type": "code",
   "execution_count": null,
   "id": "d11ec9c4",
   "metadata": {},
   "outputs": [],
   "source": [
    "ratings = df_dict[\"ratings\"]\n",
    "ratings.head(10)"
   ]
  },
  {
   "cell_type": "markdown",
   "id": "3f8fe0c6",
   "metadata": {},
   "source": [
    "Phân phối của các điểm đánh giá cho trong biểu đồ dưới đây cho chúng ta thấy rằng điểm 4 được đánh giá nhiều nhất trong khi các điểm 1 và 2 có ít lượng đánh giá nhất. Điều này có thể được giải thích bằng sự thật là người dùng thường đánh giá khi họ rất thích một bộ phim; khi họ không thực sự thích, họ sẽ ít ra đánh giá hơn."
   ]
  },
  {
   "cell_type": "code",
   "execution_count": null,
   "id": "d8e6034e",
   "metadata": {},
   "outputs": [],
   "source": [
    "ratings[\"Rating\"].plot.hist()"
   ]
  },
  {
   "cell_type": "markdown",
   "id": "8dbaae31",
   "metadata": {},
   "source": [
    "Tiếp theo, chúng ta sẽ xem số lượng bộ phim mà mỗi người dùng đánh giá cũng như số lượng đánh giá mà mỗi bộ phim nhận được:"
   ]
  },
  {
   "cell_type": "code",
   "execution_count": null,
   "id": "b5d2766e",
   "metadata": {},
   "outputs": [],
   "source": [
    "ratings[\"UserID\"].value_counts()"
   ]
  },
  {
   "cell_type": "markdown",
   "id": "a80247f4",
   "metadata": {},
   "source": [
    "Ta thấy rằng người dùng có mã số 4169 đánh giá tới 2314 bộ phim và 20 là số lượng đánh giá ít nhất mà mỗi người dùng đưa ra. Có thể thấy rằng nhóm tác giả của bộ dữ liệu này đã lọc đi các người dùng có ít đánh giá. Sự lý tưởng này khó đạt được trong thực tế vì phần lớn người dùng không đưa ra đánh giá nào. Việc mỗi người dùng đánh giá nhiều bộ phim khiến cho độ chính xác khi gợi ý được cao hơn."
   ]
  },
  {
   "cell_type": "code",
   "execution_count": null,
   "id": "c931fa30",
   "metadata": {},
   "outputs": [],
   "source": [
    "ratings[\"MovieID\"].value_counts()"
   ]
  },
  {
   "cell_type": "markdown",
   "id": "f52cc823",
   "metadata": {},
   "source": [
    "Ở khía cạnh bộ phim, bộ phim có mã số 2858 được đánh giá nhiều nhất với 3428 lần trong khi rất nhiều bộ phim chỉ nhận được một đánh giá."
   ]
  },
  {
   "cell_type": "markdown",
   "id": "de8d34b3",
   "metadata": {},
   "source": [
    "### Dữ liệu người dùng\n",
    "\n",
    "Đi sâu một chút vào dữ liệu người dùng:"
   ]
  },
  {
   "cell_type": "code",
   "execution_count": null,
   "id": "b42f0315",
   "metadata": {},
   "outputs": [],
   "source": [
    "users = df_dict[\"users\"]\n",
    "users.info()"
   ]
  },
  {
   "cell_type": "markdown",
   "id": "98d72cce",
   "metadata": {},
   "source": [
    "Như vậy có 6040 người dùng cùng với đầy đủ các thông tin về giới tính, tuổi, nghề nghiệp và Zip-code. Chúng ta sẽ không sử dụng thông tin về Zip-code vì số lượng các giá trị phân biệt là quá lớn. Chúng ta cùng xem nhanh phân bố của các thông tin về giới tính, tuổi và nghề nghiệp."
   ]
  },
  {
   "cell_type": "code",
   "execution_count": null,
   "id": "488bf189",
   "metadata": {},
   "outputs": [],
   "source": [
    "users[\"Gender\"].value_counts()"
   ]
  },
  {
   "cell_type": "markdown",
   "id": "2ea0d185",
   "metadata": {},
   "source": [
    "Có 4331 người dùng là nam và 1709 người dùng là nữ."
   ]
  },
  {
   "cell_type": "code",
   "execution_count": null,
   "id": "aa661cef",
   "metadata": {},
   "outputs": [],
   "source": [
    "users[\"Age\"].hist()"
   ]
  },
  {
   "cell_type": "markdown",
   "id": "8caaad00",
   "metadata": {},
   "source": [
    "Phần lớn người dùng có độ tuổi từ 18 đến 34, nhóm dưới 18 tuổi có số người dùng nhỏ nhất.\n",
    "\n",
    "Dữ liệu về nghề nghiệp đã được mã hóa thành các số từ 0 đến 20:"
   ]
  },
  {
   "cell_type": "code",
   "execution_count": null,
   "id": "226ae3ea",
   "metadata": {},
   "outputs": [],
   "source": [
    "import matplotlib\n",
    "from matplotlib import pyplot as plt\n",
    "\n",
    "\n",
    "occupation_mapping = {\n",
    "    0: \"other or not specified\",\n",
    "    1: \"academic/educator\",\n",
    "    2: \"artist\",\n",
    "    3: \"clerical/admin\",\n",
    "    4: \"college/grad student\",\n",
    "    5: \"customer service\",\n",
    "    6: \"doctor/health care\",\n",
    "    7: \"executive/managerial\",\n",
    "    8: \"farmer\",\n",
    "    9: \"homemaker\",\n",
    "    10: \"K-12 student\",\n",
    "    11: \"lawyer\",\n",
    "    12: \"programmer\",\n",
    "    13: \"retired\",\n",
    "    14: \"sales/marketing\",\n",
    "    15: \"scientist\",\n",
    "    16: \"self-employed\",\n",
    "    17: \"technician/engineer\",\n",
    "    18: \"tradesman/craftsman\",\n",
    "    19: \"unemployed\",\n",
    "    20: \"writer\",\n",
    "}\n",
    "\n",
    "occupation_id_count = users[\"Occupation\"].value_counts().to_dict()\n",
    "occupation_count = {\n",
    "    occupation_mapping[id]: count for id, count in occupation_id_count.items()\n",
    "}\n",
    "\n",
    "\n",
    "matplotlib.rcParams.update({\"font.size\": 14})\n",
    "plt.figure(figsize=(20, 10))\n",
    "plt.bar(x=occupation_count.keys(), height=occupation_count.values())\n",
    "plt.xticks(rotation=90)\n",
    "plt.show()"
   ]
  },
  {
   "cell_type": "markdown",
   "id": "e2161162",
   "metadata": {},
   "source": [
    "Không có gì bất ngờ, các bạn sinh viên xuất hiện nhiều trong bộ dữ liệu nhất còn các bác nông dân xuất hiện ít nhất."
   ]
  },
  {
   "cell_type": "markdown",
   "id": "3e2ecb58",
   "metadata": {},
   "source": [
    "### Dữ liệu bộ phim"
   ]
  },
  {
   "cell_type": "code",
   "execution_count": null,
   "id": "49647ed1",
   "metadata": {},
   "outputs": [],
   "source": [
    "movies = df_dict[\"movies\"]\n",
    "movies.info()"
   ]
  },
  {
   "cell_type": "markdown",
   "id": "b818d773",
   "metadata": {},
   "source": [
    "Có 3883 bộ phim với đầy đủ thông tin về tiêu đề (`Title`) và các thể loại (`Genres`). Cùng xem một vài dòng đầu của dataframe này:"
   ]
  },
  {
   "cell_type": "code",
   "execution_count": null,
   "id": "7d5dc520",
   "metadata": {},
   "outputs": [],
   "source": [
    "movies.head(10)"
   ]
  },
  {
   "cell_type": "markdown",
   "id": "7574044f",
   "metadata": {},
   "source": [
    "Như vậy, năm sản xuất của bộ phim cũng xuất hiện trong tiêu đề. Thông tin về năm sản xuất cũng hoàn toàn có thể là một đặc trưng tốt cho việc xây dựng mô hình. Ngoài ra, một bộ phim có thể thuộc nhiều thể loại.\n",
    "\n",
    "Tiếp theo, chúng ta cùng trả lời hai câu hỏi:\n",
    "\n",
    "1. Số lượng thể loại mà mỗi bộ phim thuộc về.\n",
    "2. Số lượng bộ phim thuộc mỗi thể loại"
   ]
  },
  {
   "cell_type": "code",
   "execution_count": null,
   "id": "bd31d5a8",
   "metadata": {},
   "outputs": [],
   "source": [
    "movies[\"num_genres\"] = movies[\"Genres\"].apply(lambda x: len(x.split('|')))\n",
    "movies[\"num_genres\"].value_counts()"
   ]
  },
  {
   "cell_type": "markdown",
   "id": "3581e963",
   "metadata": {},
   "source": [
    "Trả lời cho câu hỏi thứ nhất, hầu hết các bộ phim thuộc vào một thể loại. Số lượng thể loại nhiều nhất mà một bộ phim thuộc về là 6 và chỉ có một bộ phim như vậy."
   ]
  },
  {
   "cell_type": "code",
   "execution_count": null,
   "id": "4c47daa6",
   "metadata": {},
   "outputs": [],
   "source": [
    "from collections import defaultdict\n",
    "\n",
    "genres_counter = defaultdict(int)\n",
    "for genre_str in movies[\"Genres\"]:\n",
    "    genres = genre_str.split('|')\n",
    "    for genre in genres:\n",
    "        genres_counter[genre] += 1\n",
    "        \n",
    "plt.figure(figsize=(20, 10))\n",
    "plt.bar(x=genres_counter.keys(), height=genres_counter.values())\n",
    "plt.xticks(rotation=90)\n",
    "plt.show();"
   ]
  },
  {
   "cell_type": "markdown",
   "id": "6bb6f67b",
   "metadata": {},
   "source": [
    "Trả lời cho câu hỏi thứ hai, ta thấy rằng thể loại `Drama` và `Comedy` có nhiều bộ phim nhất. Các thể loại `Animation, Fantasy, Documentary, War, Mystery, Film-Noir` và `Western` có ít bộ phim nhất với khoảng từ 50 đến 100 bộ phim.\n",
    "\n",
    "--\n",
    "Trên đây là một vài đánh giá sơ khởi về dữ liệu. Bộ dữ liệu này tương đối \"sạch\" với đẩy đủ thông tin về người dùng cũng như sản phẩm, dữ liệu có bị lệch nhưng không đáng kể. Chúng ta sử dụng bộ dữ liệu này cho mục đích minh họa các thuật toán. Với dữ liệu chưa sạch, ta cần rất nhiều bước làm sạch và xây dựng đặc trưng trước khi có thể xây dựng mô hình."
   ]
  }
 ],
 "metadata": {
  "jupytext": {
   "text_representation": {
    "extension": ".md",
    "format_name": "myst",
    "format_version": 0.13,
    "jupytext_version": "1.10.3"
   }
  },
  "kernelspec": {
   "display_name": "Python 3",
   "language": "python",
   "name": "python3"
  },
  "source_map": [
   12,
   27,
   31,
   42,
   45,
   49,
   51,
   55,
   57,
   61,
   63,
   67,
   73,
   76,
   80,
   82,
   86,
   88,
   94,
   134,
   138,
   142,
   145,
   149,
   151,
   160,
   163,
   167,
   180
  ]
 },
 "nbformat": 4,
 "nbformat_minor": 5
}